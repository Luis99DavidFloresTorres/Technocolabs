{
 "cells": [
  {
   "cell_type": "code",
   "execution_count": 1,
   "id": "7c1a2e5d",
   "metadata": {},
   "outputs": [],
   "source": [
    "import pandas as pd\n",
    "import numpy as np\n",
    "import matplotlib.pyplot as plt\n",
    "import seaborn as sns"
   ]
  },
  {
   "cell_type": "code",
   "execution_count": 2,
   "id": "2f453383",
   "metadata": {},
   "outputs": [],
   "source": [
    "import os\n",
    "os.chdir(\"/home/david/technocolabs/EDA/data/\") "
   ]
  },
  {
   "cell_type": "code",
   "execution_count": 3,
   "id": "f9d6e005",
   "metadata": {},
   "outputs": [
    {
     "data": {
      "text/html": [
       "<div>\n",
       "<style scoped>\n",
       "    .dataframe tbody tr th:only-of-type {\n",
       "        vertical-align: middle;\n",
       "    }\n",
       "\n",
       "    .dataframe tbody tr th {\n",
       "        vertical-align: top;\n",
       "    }\n",
       "\n",
       "    .dataframe thead th {\n",
       "        text-align: right;\n",
       "    }\n",
       "</style>\n",
       "<table border=\"1\" class=\"dataframe\">\n",
       "  <thead>\n",
       "    <tr style=\"text-align: right;\">\n",
       "      <th></th>\n",
       "      <th>CreditScore</th>\n",
       "      <th>FirstPaymentDate</th>\n",
       "      <th>FirstTimeHomebuyer</th>\n",
       "      <th>MaturityDate</th>\n",
       "      <th>MSA</th>\n",
       "      <th>MIP</th>\n",
       "      <th>Units</th>\n",
       "      <th>Occupancy</th>\n",
       "      <th>OCLTV</th>\n",
       "      <th>DTI</th>\n",
       "      <th>...</th>\n",
       "      <th>PostalCode</th>\n",
       "      <th>LoanSeqNum</th>\n",
       "      <th>LoanPurpose</th>\n",
       "      <th>OrigLoanTerm</th>\n",
       "      <th>NumBorrowers</th>\n",
       "      <th>SellerName</th>\n",
       "      <th>ServicerName</th>\n",
       "      <th>EverDelinquent</th>\n",
       "      <th>MonthsDelinquent</th>\n",
       "      <th>MonthsInRepayment</th>\n",
       "    </tr>\n",
       "  </thead>\n",
       "  <tbody>\n",
       "    <tr>\n",
       "      <th>0</th>\n",
       "      <td>0</td>\n",
       "      <td>199902</td>\n",
       "      <td>N</td>\n",
       "      <td>202901</td>\n",
       "      <td>16974</td>\n",
       "      <td>25</td>\n",
       "      <td>1</td>\n",
       "      <td>O</td>\n",
       "      <td>89</td>\n",
       "      <td>27</td>\n",
       "      <td>...</td>\n",
       "      <td>60400</td>\n",
       "      <td>F199Q1268030</td>\n",
       "      <td>P</td>\n",
       "      <td>360</td>\n",
       "      <td>2</td>\n",
       "      <td>FL</td>\n",
       "      <td>WASHINGTONMUTUALBANK</td>\n",
       "      <td>0</td>\n",
       "      <td>0</td>\n",
       "      <td>52</td>\n",
       "    </tr>\n",
       "    <tr>\n",
       "      <th>1</th>\n",
       "      <td>0</td>\n",
       "      <td>199902</td>\n",
       "      <td>N</td>\n",
       "      <td>202901</td>\n",
       "      <td>19740</td>\n",
       "      <td>0</td>\n",
       "      <td>1</td>\n",
       "      <td>O</td>\n",
       "      <td>73</td>\n",
       "      <td>17</td>\n",
       "      <td>...</td>\n",
       "      <td>80200</td>\n",
       "      <td>F199Q1015092</td>\n",
       "      <td>N</td>\n",
       "      <td>360</td>\n",
       "      <td>1</td>\n",
       "      <td>FT</td>\n",
       "      <td>CHASEHOMEFINANCELLC</td>\n",
       "      <td>0</td>\n",
       "      <td>0</td>\n",
       "      <td>144</td>\n",
       "    </tr>\n",
       "    <tr>\n",
       "      <th>2</th>\n",
       "      <td>0</td>\n",
       "      <td>199902</td>\n",
       "      <td>N</td>\n",
       "      <td>202901</td>\n",
       "      <td>29940</td>\n",
       "      <td>0</td>\n",
       "      <td>1</td>\n",
       "      <td>O</td>\n",
       "      <td>75</td>\n",
       "      <td>16</td>\n",
       "      <td>...</td>\n",
       "      <td>66000</td>\n",
       "      <td>F199Q1266886</td>\n",
       "      <td>N</td>\n",
       "      <td>360</td>\n",
       "      <td>2</td>\n",
       "      <td>FL</td>\n",
       "      <td>WASHINGTONMUTUALBANK</td>\n",
       "      <td>0</td>\n",
       "      <td>0</td>\n",
       "      <td>67</td>\n",
       "    </tr>\n",
       "    <tr>\n",
       "      <th>3</th>\n",
       "      <td>0</td>\n",
       "      <td>199902</td>\n",
       "      <td>N</td>\n",
       "      <td>202901</td>\n",
       "      <td>31084</td>\n",
       "      <td>0</td>\n",
       "      <td>1</td>\n",
       "      <td>O</td>\n",
       "      <td>76</td>\n",
       "      <td>14</td>\n",
       "      <td>...</td>\n",
       "      <td>90700</td>\n",
       "      <td>F199Q1178167</td>\n",
       "      <td>N</td>\n",
       "      <td>360</td>\n",
       "      <td>2</td>\n",
       "      <td>GM</td>\n",
       "      <td>GMACMTGECORP</td>\n",
       "      <td>0</td>\n",
       "      <td>0</td>\n",
       "      <td>35</td>\n",
       "    </tr>\n",
       "    <tr>\n",
       "      <th>4</th>\n",
       "      <td>0</td>\n",
       "      <td>199902</td>\n",
       "      <td>N</td>\n",
       "      <td>202901</td>\n",
       "      <td>35644</td>\n",
       "      <td>0</td>\n",
       "      <td>1</td>\n",
       "      <td>O</td>\n",
       "      <td>78</td>\n",
       "      <td>18</td>\n",
       "      <td>...</td>\n",
       "      <td>7600</td>\n",
       "      <td>F199Q1178517</td>\n",
       "      <td>N</td>\n",
       "      <td>360</td>\n",
       "      <td>2</td>\n",
       "      <td>GM</td>\n",
       "      <td>GMACMTGECORP</td>\n",
       "      <td>0</td>\n",
       "      <td>0</td>\n",
       "      <td>54</td>\n",
       "    </tr>\n",
       "  </tbody>\n",
       "</table>\n",
       "<p>5 rows × 28 columns</p>\n",
       "</div>"
      ],
      "text/plain": [
       "   CreditScore  FirstPaymentDate FirstTimeHomebuyer  MaturityDate    MSA  MIP  \\\n",
       "0            0            199902                  N        202901  16974   25   \n",
       "1            0            199902                  N        202901  19740    0   \n",
       "2            0            199902                  N        202901  29940    0   \n",
       "3            0            199902                  N        202901  31084    0   \n",
       "4            0            199902                  N        202901  35644    0   \n",
       "\n",
       "   Units Occupancy  OCLTV  DTI  ...  PostalCode    LoanSeqNum  LoanPurpose  \\\n",
       "0      1         O     89   27  ...       60400  F199Q1268030            P   \n",
       "1      1         O     73   17  ...       80200  F199Q1015092            N   \n",
       "2      1         O     75   16  ...       66000  F199Q1266886            N   \n",
       "3      1         O     76   14  ...       90700  F199Q1178167            N   \n",
       "4      1         O     78   18  ...        7600  F199Q1178517            N   \n",
       "\n",
       "  OrigLoanTerm NumBorrowers SellerName          ServicerName EverDelinquent  \\\n",
       "0          360            2         FL  WASHINGTONMUTUALBANK              0   \n",
       "1          360            1         FT  CHASEHOMEFINANCELLC               0   \n",
       "2          360            2         FL  WASHINGTONMUTUALBANK              0   \n",
       "3          360            2         GM  GMACMTGECORP                      0   \n",
       "4          360            2         GM  GMACMTGECORP                      0   \n",
       "\n",
       "  MonthsDelinquent MonthsInRepayment  \n",
       "0                0                52  \n",
       "1                0               144  \n",
       "2                0                67  \n",
       "3                0                35  \n",
       "4                0                54  \n",
       "\n",
       "[5 rows x 28 columns]"
      ]
     },
     "execution_count": 3,
     "metadata": {},
     "output_type": "execute_result"
    }
   ],
   "source": [
    "df = pd.read_csv('LoanExport.csv', low_memory=False)\n",
    "df.head()"
   ]
  },
  {
   "cell_type": "code",
   "execution_count": 4,
   "id": "649f05da",
   "metadata": {},
   "outputs": [
    {
     "name": "stdout",
     "output_type": "stream",
     "text": [
      "<class 'pandas.core.frame.DataFrame'>\n",
      "RangeIndex: 291451 entries, 0 to 291450\n",
      "Data columns (total 28 columns):\n",
      " #   Column              Non-Null Count   Dtype  \n",
      "---  ------              --------------   -----  \n",
      " 0   CreditScore         291451 non-null  int64  \n",
      " 1   FirstPaymentDate    291451 non-null  int64  \n",
      " 2   FirstTimeHomebuyer  291451 non-null  object \n",
      " 3   MaturityDate        291451 non-null  int64  \n",
      " 4   MSA                 291451 non-null  object \n",
      " 5   MIP                 291451 non-null  int64  \n",
      " 6   Units               291451 non-null  int64  \n",
      " 7   Occupancy           291451 non-null  object \n",
      " 8   OCLTV               291451 non-null  int64  \n",
      " 9   DTI                 291451 non-null  int64  \n",
      " 10  OrigUPB             291451 non-null  int64  \n",
      " 11  LTV                 291451 non-null  int64  \n",
      " 12  OrigInterestRate    291451 non-null  float64\n",
      " 13  Channel             291451 non-null  object \n",
      " 14  PPM                 291451 non-null  object \n",
      " 15  ProductType         291451 non-null  object \n",
      " 16  PropertyState       291451 non-null  object \n",
      " 17  PropertyType        291451 non-null  object \n",
      " 18  PostalCode          291451 non-null  object \n",
      " 19  LoanSeqNum          291451 non-null  object \n",
      " 20  LoanPurpose         291451 non-null  object \n",
      " 21  OrigLoanTerm        291451 non-null  int64  \n",
      " 22  NumBorrowers        291451 non-null  object \n",
      " 23  SellerName          266457 non-null  object \n",
      " 24  ServicerName        291451 non-null  object \n",
      " 25  EverDelinquent      291451 non-null  int64  \n",
      " 26  MonthsDelinquent    291451 non-null  int64  \n",
      " 27  MonthsInRepayment   291451 non-null  int64  \n",
      "dtypes: float64(1), int64(13), object(14)\n",
      "memory usage: 62.3+ MB\n"
     ]
    }
   ],
   "source": [
    "df.info()"
   ]
  },
  {
   "cell_type": "code",
   "execution_count": 5,
   "id": "0096d2ee",
   "metadata": {},
   "outputs": [
    {
     "data": {
      "text/plain": [
       "CreditScore               0\n",
       "FirstPaymentDate          0\n",
       "FirstTimeHomebuyer        0\n",
       "MaturityDate              0\n",
       "MSA                       0\n",
       "MIP                       0\n",
       "Units                     0\n",
       "Occupancy                 0\n",
       "OCLTV                     0\n",
       "DTI                       0\n",
       "OrigUPB                   0\n",
       "LTV                       0\n",
       "OrigInterestRate          0\n",
       "Channel                   0\n",
       "PPM                       0\n",
       "ProductType               0\n",
       "PropertyState             0\n",
       "PropertyType              0\n",
       "PostalCode                0\n",
       "LoanSeqNum                0\n",
       "LoanPurpose               0\n",
       "OrigLoanTerm              0\n",
       "NumBorrowers              0\n",
       "SellerName            24994\n",
       "ServicerName              0\n",
       "EverDelinquent            0\n",
       "MonthsDelinquent          0\n",
       "MonthsInRepayment         0\n",
       "dtype: int64"
      ]
     },
     "execution_count": 5,
     "metadata": {},
     "output_type": "execute_result"
    }
   ],
   "source": [
    "df.isnull().sum()"
   ]
  },
  {
   "cell_type": "code",
   "execution_count": 6,
   "id": "978df625",
   "metadata": {},
   "outputs": [
    {
     "data": {
      "text/html": [
       "<div>\n",
       "<style scoped>\n",
       "    .dataframe tbody tr th:only-of-type {\n",
       "        vertical-align: middle;\n",
       "    }\n",
       "\n",
       "    .dataframe tbody tr th {\n",
       "        vertical-align: top;\n",
       "    }\n",
       "\n",
       "    .dataframe thead th {\n",
       "        text-align: right;\n",
       "    }\n",
       "</style>\n",
       "<table border=\"1\" class=\"dataframe\">\n",
       "  <thead>\n",
       "    <tr style=\"text-align: right;\">\n",
       "      <th></th>\n",
       "      <th>CreditScore</th>\n",
       "      <th>FirstPaymentDate</th>\n",
       "      <th>MaturityDate</th>\n",
       "      <th>MIP</th>\n",
       "      <th>Units</th>\n",
       "      <th>OCLTV</th>\n",
       "      <th>DTI</th>\n",
       "      <th>OrigUPB</th>\n",
       "      <th>LTV</th>\n",
       "      <th>OrigInterestRate</th>\n",
       "      <th>OrigLoanTerm</th>\n",
       "      <th>EverDelinquent</th>\n",
       "      <th>MonthsDelinquent</th>\n",
       "      <th>MonthsInRepayment</th>\n",
       "    </tr>\n",
       "  </thead>\n",
       "  <tbody>\n",
       "    <tr>\n",
       "      <th>CreditScore</th>\n",
       "      <td>1.000000</td>\n",
       "      <td>0.011249</td>\n",
       "      <td>0.001346</td>\n",
       "      <td>-0.164376</td>\n",
       "      <td>0.002808</td>\n",
       "      <td>-0.190848</td>\n",
       "      <td>-0.098740</td>\n",
       "      <td>0.003770</td>\n",
       "      <td>-0.191080</td>\n",
       "      <td>-0.119472</td>\n",
       "      <td>-0.008075</td>\n",
       "      <td>-0.207204</td>\n",
       "      <td>-0.150266</td>\n",
       "      <td>-0.005127</td>\n",
       "    </tr>\n",
       "    <tr>\n",
       "      <th>FirstPaymentDate</th>\n",
       "      <td>0.011249</td>\n",
       "      <td>1.000000</td>\n",
       "      <td>0.142768</td>\n",
       "      <td>-0.020830</td>\n",
       "      <td>-0.003539</td>\n",
       "      <td>-0.025962</td>\n",
       "      <td>-0.001190</td>\n",
       "      <td>0.027332</td>\n",
       "      <td>-0.026119</td>\n",
       "      <td>-0.006470</td>\n",
       "      <td>-0.605893</td>\n",
       "      <td>-0.011898</td>\n",
       "      <td>-0.002257</td>\n",
       "      <td>-0.025434</td>\n",
       "    </tr>\n",
       "    <tr>\n",
       "      <th>MaturityDate</th>\n",
       "      <td>0.001346</td>\n",
       "      <td>0.142768</td>\n",
       "      <td>1.000000</td>\n",
       "      <td>-0.002338</td>\n",
       "      <td>0.003166</td>\n",
       "      <td>-0.001901</td>\n",
       "      <td>0.035039</td>\n",
       "      <td>0.015623</td>\n",
       "      <td>-0.002138</td>\n",
       "      <td>0.001945</td>\n",
       "      <td>0.682230</td>\n",
       "      <td>0.001860</td>\n",
       "      <td>0.005761</td>\n",
       "      <td>-0.002989</td>\n",
       "    </tr>\n",
       "    <tr>\n",
       "      <th>MIP</th>\n",
       "      <td>-0.164376</td>\n",
       "      <td>-0.020830</td>\n",
       "      <td>-0.002338</td>\n",
       "      <td>1.000000</td>\n",
       "      <td>-0.042111</td>\n",
       "      <td>0.694789</td>\n",
       "      <td>0.111603</td>\n",
       "      <td>0.006729</td>\n",
       "      <td>0.695888</td>\n",
       "      <td>0.124544</td>\n",
       "      <td>0.014834</td>\n",
       "      <td>0.059993</td>\n",
       "      <td>0.051204</td>\n",
       "      <td>-0.087802</td>\n",
       "    </tr>\n",
       "    <tr>\n",
       "      <th>Units</th>\n",
       "      <td>0.002808</td>\n",
       "      <td>-0.003539</td>\n",
       "      <td>0.003166</td>\n",
       "      <td>-0.042111</td>\n",
       "      <td>1.000000</td>\n",
       "      <td>-0.046133</td>\n",
       "      <td>0.012887</td>\n",
       "      <td>0.043827</td>\n",
       "      <td>-0.046032</td>\n",
       "      <td>0.074070</td>\n",
       "      <td>0.005348</td>\n",
       "      <td>0.010163</td>\n",
       "      <td>-0.004573</td>\n",
       "      <td>0.025594</td>\n",
       "    </tr>\n",
       "    <tr>\n",
       "      <th>OCLTV</th>\n",
       "      <td>-0.190848</td>\n",
       "      <td>-0.025962</td>\n",
       "      <td>-0.001901</td>\n",
       "      <td>0.694789</td>\n",
       "      <td>-0.046133</td>\n",
       "      <td>1.000000</td>\n",
       "      <td>0.114853</td>\n",
       "      <td>0.106273</td>\n",
       "      <td>0.999470</td>\n",
       "      <td>0.095268</td>\n",
       "      <td>0.018560</td>\n",
       "      <td>0.065528</td>\n",
       "      <td>0.059811</td>\n",
       "      <td>-0.094299</td>\n",
       "    </tr>\n",
       "    <tr>\n",
       "      <th>DTI</th>\n",
       "      <td>-0.098740</td>\n",
       "      <td>-0.001190</td>\n",
       "      <td>0.035039</td>\n",
       "      <td>0.111603</td>\n",
       "      <td>0.012887</td>\n",
       "      <td>0.114853</td>\n",
       "      <td>1.000000</td>\n",
       "      <td>0.063640</td>\n",
       "      <td>0.114468</td>\n",
       "      <td>0.105216</td>\n",
       "      <td>0.028005</td>\n",
       "      <td>0.062109</td>\n",
       "      <td>0.040830</td>\n",
       "      <td>-0.007732</td>\n",
       "    </tr>\n",
       "    <tr>\n",
       "      <th>OrigUPB</th>\n",
       "      <td>0.003770</td>\n",
       "      <td>0.027332</td>\n",
       "      <td>0.015623</td>\n",
       "      <td>0.006729</td>\n",
       "      <td>0.043827</td>\n",
       "      <td>0.106273</td>\n",
       "      <td>0.063640</td>\n",
       "      <td>1.000000</td>\n",
       "      <td>0.105722</td>\n",
       "      <td>-0.128563</td>\n",
       "      <td>-0.008008</td>\n",
       "      <td>-0.067605</td>\n",
       "      <td>-0.067243</td>\n",
       "      <td>-0.211698</td>\n",
       "    </tr>\n",
       "    <tr>\n",
       "      <th>LTV</th>\n",
       "      <td>-0.191080</td>\n",
       "      <td>-0.026119</td>\n",
       "      <td>-0.002138</td>\n",
       "      <td>0.695888</td>\n",
       "      <td>-0.046032</td>\n",
       "      <td>0.999470</td>\n",
       "      <td>0.114468</td>\n",
       "      <td>0.105722</td>\n",
       "      <td>1.000000</td>\n",
       "      <td>0.095520</td>\n",
       "      <td>0.018477</td>\n",
       "      <td>0.065735</td>\n",
       "      <td>0.059930</td>\n",
       "      <td>-0.094596</td>\n",
       "    </tr>\n",
       "    <tr>\n",
       "      <th>OrigInterestRate</th>\n",
       "      <td>-0.119472</td>\n",
       "      <td>-0.006470</td>\n",
       "      <td>0.001945</td>\n",
       "      <td>0.124544</td>\n",
       "      <td>0.074070</td>\n",
       "      <td>0.095268</td>\n",
       "      <td>0.105216</td>\n",
       "      <td>-0.128563</td>\n",
       "      <td>0.095520</td>\n",
       "      <td>1.000000</td>\n",
       "      <td>0.010794</td>\n",
       "      <td>0.060418</td>\n",
       "      <td>0.051706</td>\n",
       "      <td>-0.120378</td>\n",
       "    </tr>\n",
       "    <tr>\n",
       "      <th>OrigLoanTerm</th>\n",
       "      <td>-0.008075</td>\n",
       "      <td>-0.605893</td>\n",
       "      <td>0.682230</td>\n",
       "      <td>0.014834</td>\n",
       "      <td>0.005348</td>\n",
       "      <td>0.018560</td>\n",
       "      <td>0.028005</td>\n",
       "      <td>-0.008008</td>\n",
       "      <td>0.018477</td>\n",
       "      <td>0.010794</td>\n",
       "      <td>1.000000</td>\n",
       "      <td>0.010348</td>\n",
       "      <td>0.006567</td>\n",
       "      <td>0.016591</td>\n",
       "    </tr>\n",
       "    <tr>\n",
       "      <th>EverDelinquent</th>\n",
       "      <td>-0.207204</td>\n",
       "      <td>-0.011898</td>\n",
       "      <td>0.001860</td>\n",
       "      <td>0.059993</td>\n",
       "      <td>0.010163</td>\n",
       "      <td>0.065528</td>\n",
       "      <td>0.062109</td>\n",
       "      <td>-0.067605</td>\n",
       "      <td>0.065735</td>\n",
       "      <td>0.060418</td>\n",
       "      <td>0.010348</td>\n",
       "      <td>1.000000</td>\n",
       "      <td>0.420048</td>\n",
       "      <td>0.232497</td>\n",
       "    </tr>\n",
       "    <tr>\n",
       "      <th>MonthsDelinquent</th>\n",
       "      <td>-0.150266</td>\n",
       "      <td>-0.002257</td>\n",
       "      <td>0.005761</td>\n",
       "      <td>0.051204</td>\n",
       "      <td>-0.004573</td>\n",
       "      <td>0.059811</td>\n",
       "      <td>0.040830</td>\n",
       "      <td>-0.067243</td>\n",
       "      <td>0.059930</td>\n",
       "      <td>0.051706</td>\n",
       "      <td>0.006567</td>\n",
       "      <td>0.420048</td>\n",
       "      <td>1.000000</td>\n",
       "      <td>0.306631</td>\n",
       "    </tr>\n",
       "    <tr>\n",
       "      <th>MonthsInRepayment</th>\n",
       "      <td>-0.005127</td>\n",
       "      <td>-0.025434</td>\n",
       "      <td>-0.002989</td>\n",
       "      <td>-0.087802</td>\n",
       "      <td>0.025594</td>\n",
       "      <td>-0.094299</td>\n",
       "      <td>-0.007732</td>\n",
       "      <td>-0.211698</td>\n",
       "      <td>-0.094596</td>\n",
       "      <td>-0.120378</td>\n",
       "      <td>0.016591</td>\n",
       "      <td>0.232497</td>\n",
       "      <td>0.306631</td>\n",
       "      <td>1.000000</td>\n",
       "    </tr>\n",
       "  </tbody>\n",
       "</table>\n",
       "</div>"
      ],
      "text/plain": [
       "                   CreditScore  FirstPaymentDate  MaturityDate       MIP  \\\n",
       "CreditScore           1.000000          0.011249      0.001346 -0.164376   \n",
       "FirstPaymentDate      0.011249          1.000000      0.142768 -0.020830   \n",
       "MaturityDate          0.001346          0.142768      1.000000 -0.002338   \n",
       "MIP                  -0.164376         -0.020830     -0.002338  1.000000   \n",
       "Units                 0.002808         -0.003539      0.003166 -0.042111   \n",
       "OCLTV                -0.190848         -0.025962     -0.001901  0.694789   \n",
       "DTI                  -0.098740         -0.001190      0.035039  0.111603   \n",
       "OrigUPB               0.003770          0.027332      0.015623  0.006729   \n",
       "LTV                  -0.191080         -0.026119     -0.002138  0.695888   \n",
       "OrigInterestRate     -0.119472         -0.006470      0.001945  0.124544   \n",
       "OrigLoanTerm         -0.008075         -0.605893      0.682230  0.014834   \n",
       "EverDelinquent       -0.207204         -0.011898      0.001860  0.059993   \n",
       "MonthsDelinquent     -0.150266         -0.002257      0.005761  0.051204   \n",
       "MonthsInRepayment    -0.005127         -0.025434     -0.002989 -0.087802   \n",
       "\n",
       "                      Units     OCLTV       DTI   OrigUPB       LTV  \\\n",
       "CreditScore        0.002808 -0.190848 -0.098740  0.003770 -0.191080   \n",
       "FirstPaymentDate  -0.003539 -0.025962 -0.001190  0.027332 -0.026119   \n",
       "MaturityDate       0.003166 -0.001901  0.035039  0.015623 -0.002138   \n",
       "MIP               -0.042111  0.694789  0.111603  0.006729  0.695888   \n",
       "Units              1.000000 -0.046133  0.012887  0.043827 -0.046032   \n",
       "OCLTV             -0.046133  1.000000  0.114853  0.106273  0.999470   \n",
       "DTI                0.012887  0.114853  1.000000  0.063640  0.114468   \n",
       "OrigUPB            0.043827  0.106273  0.063640  1.000000  0.105722   \n",
       "LTV               -0.046032  0.999470  0.114468  0.105722  1.000000   \n",
       "OrigInterestRate   0.074070  0.095268  0.105216 -0.128563  0.095520   \n",
       "OrigLoanTerm       0.005348  0.018560  0.028005 -0.008008  0.018477   \n",
       "EverDelinquent     0.010163  0.065528  0.062109 -0.067605  0.065735   \n",
       "MonthsDelinquent  -0.004573  0.059811  0.040830 -0.067243  0.059930   \n",
       "MonthsInRepayment  0.025594 -0.094299 -0.007732 -0.211698 -0.094596   \n",
       "\n",
       "                   OrigInterestRate  OrigLoanTerm  EverDelinquent  \\\n",
       "CreditScore               -0.119472     -0.008075       -0.207204   \n",
       "FirstPaymentDate          -0.006470     -0.605893       -0.011898   \n",
       "MaturityDate               0.001945      0.682230        0.001860   \n",
       "MIP                        0.124544      0.014834        0.059993   \n",
       "Units                      0.074070      0.005348        0.010163   \n",
       "OCLTV                      0.095268      0.018560        0.065528   \n",
       "DTI                        0.105216      0.028005        0.062109   \n",
       "OrigUPB                   -0.128563     -0.008008       -0.067605   \n",
       "LTV                        0.095520      0.018477        0.065735   \n",
       "OrigInterestRate           1.000000      0.010794        0.060418   \n",
       "OrigLoanTerm               0.010794      1.000000        0.010348   \n",
       "EverDelinquent             0.060418      0.010348        1.000000   \n",
       "MonthsDelinquent           0.051706      0.006567        0.420048   \n",
       "MonthsInRepayment         -0.120378      0.016591        0.232497   \n",
       "\n",
       "                   MonthsDelinquent  MonthsInRepayment  \n",
       "CreditScore               -0.150266          -0.005127  \n",
       "FirstPaymentDate          -0.002257          -0.025434  \n",
       "MaturityDate               0.005761          -0.002989  \n",
       "MIP                        0.051204          -0.087802  \n",
       "Units                     -0.004573           0.025594  \n",
       "OCLTV                      0.059811          -0.094299  \n",
       "DTI                        0.040830          -0.007732  \n",
       "OrigUPB                   -0.067243          -0.211698  \n",
       "LTV                        0.059930          -0.094596  \n",
       "OrigInterestRate           0.051706          -0.120378  \n",
       "OrigLoanTerm               0.006567           0.016591  \n",
       "EverDelinquent             0.420048           0.232497  \n",
       "MonthsDelinquent           1.000000           0.306631  \n",
       "MonthsInRepayment          0.306631           1.000000  "
      ]
     },
     "execution_count": 6,
     "metadata": {},
     "output_type": "execute_result"
    }
   ],
   "source": [
    "df.corr()"
   ]
  },
  {
   "cell_type": "markdown",
   "id": "e4e27c32",
   "metadata": {},
   "source": [
    "# Remove variables"
   ]
  },
  {
   "cell_type": "code",
   "execution_count": 7,
   "id": "97d93b13",
   "metadata": {},
   "outputs": [],
   "source": [
    "remove = ['FirstPaymentDate','MaturityDate','MSA',\n",
    "            'Occupancy','Channel','ProductType','LoanSeqNum',\n",
    "            'SellerName','PostalCode','ServicerName',\n",
    "            'PropertyState','PPM','PropertyType','LoanPurpose',\n",
    "            'NumBorrowers']"
   ]
  },
  {
   "cell_type": "code",
   "execution_count": 8,
   "id": "60bec2c5",
   "metadata": {},
   "outputs": [],
   "source": [
    "df.drop(remove,inplace=True,axis=1)"
   ]
  },
  {
   "cell_type": "code",
   "execution_count": 9,
   "id": "588f1764",
   "metadata": {},
   "outputs": [
    {
     "data": {
      "text/plain": [
       "(291451, 13)"
      ]
     },
     "execution_count": 9,
     "metadata": {},
     "output_type": "execute_result"
    }
   ],
   "source": [
    "df.shape"
   ]
  },
  {
   "cell_type": "code",
   "execution_count": 10,
   "id": "9fbfef01",
   "metadata": {},
   "outputs": [
    {
     "data": {
      "text/plain": [
       "array(['N', 'X', 'Y'], dtype=object)"
      ]
     },
     "execution_count": 10,
     "metadata": {},
     "output_type": "execute_result"
    }
   ],
   "source": [
    "df.FirstTimeHomebuyer.unique()"
   ]
  },
  {
   "cell_type": "code",
   "execution_count": 11,
   "id": "af5ad7bf",
   "metadata": {},
   "outputs": [
    {
     "data": {
      "text/plain": [
       "array(['N', 'Y'], dtype=object)"
      ]
     },
     "execution_count": 11,
     "metadata": {},
     "output_type": "execute_result"
    }
   ],
   "source": [
    "df = df[df.FirstTimeHomebuyer != 'X']\n",
    "df.FirstTimeHomebuyer.unique()"
   ]
  },
  {
   "cell_type": "code",
   "execution_count": 12,
   "id": "30af55f1",
   "metadata": {},
   "outputs": [
    {
     "data": {
      "text/plain": [
       "(213436, 13)"
      ]
     },
     "execution_count": 12,
     "metadata": {},
     "output_type": "execute_result"
    }
   ],
   "source": [
    "df.shape"
   ]
  },
  {
   "cell_type": "markdown",
   "id": "f566e5b4",
   "metadata": {},
   "source": [
    "# Quantitave Preprocess"
   ]
  },
  {
   "cell_type": "code",
   "execution_count": 13,
   "id": "2c405f9a",
   "metadata": {},
   "outputs": [
    {
     "name": "stdout",
     "output_type": "stream",
     "text": [
      "['CreditScore', 'MIP', 'Units', 'OCLTV', 'DTI', 'OrigUPB', 'LTV', 'OrigInterestRate', 'OrigLoanTerm', 'EverDelinquent', 'MonthsDelinquent', 'MonthsInRepayment']\n"
     ]
    }
   ],
   "source": [
    "differentsToString=[]\n",
    "for i,j in df.dtypes.items():\n",
    "    if j!='object':\n",
    "        differentsToString.append(i)\n",
    "print(differentsToString)"
   ]
  },
  {
   "cell_type": "code",
   "execution_count": 14,
   "id": "c104d113",
   "metadata": {},
   "outputs": [
    {
     "data": {
      "image/png": "[encoded data removed]",
      "text/plain": [
       "<Figure size 360x360 with 1 Axes>"
      ]
     },
     "metadata": {
      "needs_background": "light"
     },
     "output_type": "display_data"
    },
    {
     "data": {
      "image/png": "[encoded data removed]",
      "text/plain": [
       "<Figure size 360x360 with 1 Axes>"
      ]
     },
     "metadata": {
      "needs_background": "light"
     },
     "output_type": "display_data"
    },
    {
     "data": {
      "image/png": "[encoded data removed]",
      "text/plain": [
       "<Figure size 360x360 with 1 Axes>"
      ]
     },
     "metadata": {
      "needs_background": "light"
     },
     "output_type": "display_data"
    },
    {
     "data": {
      "image/png": "[encoded data removed]",
      "text/plain": [
       "<Figure size 360x360 with 1 Axes>"
      ]
     },
     "metadata": {
      "needs_background": "light"
     },
     "output_type": "display_data"
    },
    {
     "data": {
      "image/png": "[encoded data removed]",
      "text/plain": [
       "<Figure size 360x360 with 1 Axes>"
      ]
     },
     "metadata": {
      "needs_background": "light"
     },
     "output_type": "display_data"
    },
    {
     "data": {
      "image/png": "[encoded data removed]",
      "text/plain": [
       "<Figure size 360x360 with 1 Axes>"
      ]
     },
     "metadata": {
      "needs_background": "light"
     },
     "output_type": "display_data"
    },
    {
     "data": {
      "image/png": "[encoded data removed]",
      "text/plain": [
       "<Figure size 360x360 with 1 Axes>"
      ]
     },
     "metadata": {
      "needs_background": "light"
     },
     "output_type": "display_data"
    },
    {
     "data": {
      "image/png": "[encoded data removed]",
      "text/plain": [
       "<Figure size 360x360 with 1 Axes>"
      ]
     },
     "metadata": {
      "needs_background": "light"
     },
     "output_type": "display_data"
    },
    {
     "data": {
      "image/png": "[encoded data removed]",
      "text/plain": [
       "<Figure size 360x360 with 1 Axes>"
      ]
     },
     "metadata": {
      "needs_background": "light"
     },
     "output_type": "display_data"
    },
    {
     "data": {
      "image/png": "[encoded data removed]",
      "text/plain": [
       "<Figure size 360x360 with 1 Axes>"
      ]
     },
     "metadata": {
      "needs_background": "light"
     },
     "output_type": "display_data"
    },
    {
     "data": {
      "image/png": "[encoded data removed]",
      "text/plain": [
       "<Figure size 360x360 with 1 Axes>"
      ]
     },
     "metadata": {
      "needs_background": "light"
     },
     "output_type": "display_data"
    },
    {
     "data": {
      "image/png": "[encoded data removed]",
      "text/plain": [
       "<Figure size 360x360 with 1 Axes>"
      ]
     },
     "metadata": {
      "needs_background": "light"
     },
     "output_type": "display_data"
    }
   ],
   "source": [
    "df_quantitave = df[differentsToString]\n",
    "for i in differentsToString:\n",
    "    plt.figure(figsize=(5,5))\n",
    "    df_quantitave.boxplot([i])\n",
    "    plt.show()"
   ]
  },
  {
   "cell_type": "markdown",
   "id": "12f486f7",
   "metadata": {},
   "source": [
    "## OUTLIERS"
   ]
  },
  {
   "cell_type": "markdown",
   "id": "eda20218",
   "metadata": {},
   "source": [
    "###  OrigUPB"
   ]
  },
  {
   "cell_type": "code",
   "execution_count": 15,
   "id": "0c223c5a",
   "metadata": {},
   "outputs": [],
   "source": [
    "def outliersQ(name, df_quantitave):\n",
    "    print(\"Name  \",name)\n",
    "    Q1= df_quantitave[name].quantile(0.25)\n",
    "    print(\"First cuartil:\",Q1)\n",
    "\n",
    "    Q3= df_quantitave[name].quantile(0.75)\n",
    "    print(\"Third cuartil:\",Q3)\n",
    "\n",
    "    Q2_median= df_quantitave[name].median()\n",
    "    print(\"Median:\",Q2_median)\n",
    "\n",
    "    Valor_min= df_quantitave[name].min()\n",
    "    print(\"value min:\",Valor_min)\n",
    "\n",
    "    Valor_max= df_quantitave[name].max()\n",
    "    print(\"value max:\",Valor_max)\n",
    "    IQR= Q3-Q1\n",
    "    print(\"range iqr:\",IQR)\n",
    "    binf=(Q1 - 1.5 * IQR)\n",
    "    print(\"value inf:\",binf)                                     \n",
    "    bsup=(Q3 + 1.5*IQR)\n",
    "    print(\"value sup:\",bsup)\n",
    "    inlier= (df_quantitave[name]>binf) & ( df_quantitave[name]<bsup)\n",
    "    df_aux = df_quantitave[inlier]\n",
    "    diference = len(df_aux)/len(df_quantitave) *100\n",
    "    print(diference)\n",
    "    return df_aux"
   ]
  },
  {
   "cell_type": "code",
   "execution_count": 16,
   "id": "e197d5bd",
   "metadata": {},
   "outputs": [],
   "source": [
    "variablesOutliers =['OrigUPB']"
   ]
  },
  {
   "cell_type": "code",
   "execution_count": 17,
   "id": "f1c80bd1",
   "metadata": {},
   "outputs": [
    {
     "name": "stdout",
     "output_type": "stream",
     "text": [
      "Name   OrigUPB\n",
      "First cuartil: 84000.0\n",
      "Third cuartil: 160000.0\n",
      "Median: 118000.0\n",
      "value min: 10000\n",
      "value max: 497000\n",
      "range iqr: 76000.0\n",
      "value inf: -30000.0\n",
      "value sup: 274000.0\n",
      "99.61393579339942\n"
     ]
    }
   ],
   "source": [
    "for i in variablesOutliers:\n",
    "    df_aux = outliersQ(i,df_quantitave)\n",
    "    df_quantitave = df_aux"
   ]
  },
  {
   "cell_type": "markdown",
   "id": "0a511386",
   "metadata": {},
   "source": [
    "## Months in Repayment"
   ]
  },
  {
   "cell_type": "code",
   "execution_count": 18,
   "id": "d8fb85ef",
   "metadata": {},
   "outputs": [
    {
     "data": {
      "text/plain": [
       "50     6058\n",
       "49     6001\n",
       "52     5935\n",
       "51     5886\n",
       "53     5771\n",
       "       ... \n",
       "207      79\n",
       "205      77\n",
       "200      73\n",
       "204      70\n",
       "203      68\n",
       "Name: MonthsInRepayment, Length: 212, dtype: int64"
      ]
     },
     "execution_count": 18,
     "metadata": {},
     "output_type": "execute_result"
    }
   ],
   "source": [
    "df_quantitave['MonthsInRepayment'].value_counts()"
   ]
  },
  {
   "cell_type": "code",
   "execution_count": 19,
   "id": "71b23090",
   "metadata": {},
   "outputs": [],
   "source": [
    "def levels_month(month):\n",
    "    year = month/12\n",
    "    if year<=4:\n",
    "        return 1\n",
    "    if year>4 and year <=8:\n",
    "        return 2\n",
    "    if year>8 and year <=12:\n",
    "        return 3\n",
    "    if year>12 and year <=16:\n",
    "        return 4\n",
    "    if year>16 and year <21:\n",
    "        return 5"
   ]
  },
  {
   "cell_type": "code",
   "execution_count": 20,
   "id": "5b123a14",
   "metadata": {},
   "outputs": [],
   "source": [
    "df_quantitave['RepayRange']= df_quantitave['MonthsInRepayment'].apply(levels_month)"
   ]
  },
  {
   "cell_type": "code",
   "execution_count": 21,
   "id": "433bbfc7",
   "metadata": {},
   "outputs": [
    {
     "data": {
      "text/plain": [
       "<AxesSubplot:>"
      ]
     },
     "execution_count": 21,
     "metadata": {},
     "output_type": "execute_result"
    },
    {
     "data": {
      "image/png": "[encoded data removed]",
      "text/plain": [
       "<Figure size 432x288 with 1 Axes>"
      ]
     },
     "metadata": {
      "needs_background": "light"
     },
     "output_type": "display_data"
    }
   ],
   "source": [
    "fig, ax = plt.subplots()\n",
    "df_quantitave['RepayRange'].value_counts().plot(ax=ax, kind='bar')"
   ]
  },
  {
   "cell_type": "markdown",
   "id": "87a793ec",
   "metadata": {},
   "source": [
    "## LTV"
   ]
  },
  {
   "cell_type": "code",
   "execution_count": 22,
   "id": "8719f4f8",
   "metadata": {},
   "outputs": [],
   "source": [
    "def ltv_range(value):\n",
    "    if value< 26:\n",
    "        return 1\n",
    "    if value<51 and value > 25:\n",
    "        return 2\n",
    "    if value > 50:\n",
    "        return 3"
   ]
  },
  {
   "cell_type": "code",
   "execution_count": 23,
   "id": "65595e90",
   "metadata": {},
   "outputs": [],
   "source": [
    "df_quantitave['ltvRange']= df_quantitave['LTV'].apply(ltv_range)"
   ]
  },
  {
   "cell_type": "code",
   "execution_count": 24,
   "id": "161b9420",
   "metadata": {},
   "outputs": [
    {
     "data": {
      "text/plain": [
       "<AxesSubplot:>"
      ]
     },
     "execution_count": 24,
     "metadata": {},
     "output_type": "execute_result"
    },
    {
     "data": {
      "image/png": "[encoded data removed]",
      "text/plain": [
       "<Figure size 432x288 with 1 Axes>"
      ]
     },
     "metadata": {
      "needs_background": "light"
     },
     "output_type": "display_data"
    }
   ],
   "source": [
    "fig, ax = plt.subplots()\n",
    "df_quantitave['ltvRange'].value_counts().plot(ax=ax, kind='bar')"
   ]
  },
  {
   "cell_type": "code",
   "execution_count": 25,
   "id": "e5d6d71b",
   "metadata": {},
   "outputs": [],
   "source": [
    "df = df_quantitave"
   ]
  },
  {
   "cell_type": "markdown",
   "id": "f5d2f7c9",
   "metadata": {},
   "source": [
    "## Credit"
   ]
  },
  {
   "cell_type": "code",
   "execution_count": 26,
   "id": "4f922674",
   "metadata": {},
   "outputs": [
    {
     "data": {
      "text/plain": [
       "array([  0, 335, 342, 366, 375, 396, 462, 466, 471, 476, 477, 479, 481,\n",
       "       482, 483, 486, 487, 489, 490, 491, 492, 494, 495, 496, 497, 498,\n",
       "       499, 500, 502, 503, 504, 505, 506, 507, 508, 509, 510, 511, 512,\n",
       "       513, 514, 515, 516, 517, 518, 519, 520, 521, 522, 523, 524, 525,\n",
       "       526, 527, 528, 529, 530, 531, 532, 533, 534, 535, 536, 537, 538,\n",
       "       539, 540, 541, 542, 543, 544, 545, 546, 547, 548, 549, 550, 551,\n",
       "       552, 553, 554, 555, 556, 557, 558, 559, 560, 561, 562, 563, 564,\n",
       "       565, 566, 567, 568, 569, 570, 571, 572, 573, 574, 575, 576, 577,\n",
       "       578, 579, 580, 581, 582, 583, 584, 585, 586, 587, 588, 589, 590,\n",
       "       591, 592, 593, 594, 595, 596, 597, 598, 599, 600, 601, 602, 603,\n",
       "       604, 605, 606, 607, 608, 609, 610, 611, 612, 613, 614, 615, 616,\n",
       "       617, 618, 619, 620, 621, 622, 623, 624, 625, 626, 627, 628, 629,\n",
       "       630, 631, 632, 633, 634, 635, 636, 637, 638, 639, 640, 641, 642,\n",
       "       643, 644, 645, 646, 647, 648, 649, 650, 651, 652, 653, 654, 655,\n",
       "       656, 657, 658, 659, 660, 661, 662, 663, 664, 665, 666, 667, 668,\n",
       "       669, 670, 671, 672, 673, 674, 675, 676, 677, 678, 679, 680, 681,\n",
       "       682, 683, 684, 685, 686, 687, 688, 689, 690, 691, 692, 693, 694,\n",
       "       695, 696, 697, 698, 699, 700, 701, 702, 703, 704, 705, 706, 707,\n",
       "       708, 709, 710, 711, 712, 713, 714, 715, 716, 717, 718, 719, 720,\n",
       "       721, 722, 723, 724, 725, 726, 727, 728, 729, 730, 731, 732, 733,\n",
       "       734, 735, 736, 737, 738, 739, 740, 741, 742, 743, 744, 745, 746,\n",
       "       747, 748, 749, 750, 751, 752, 753, 754, 755, 756, 757, 758, 759,\n",
       "       760, 761, 762, 763, 764, 765, 766, 767, 768, 769, 770, 771, 772,\n",
       "       773, 774, 775, 776, 777, 778, 779, 780, 781, 782, 783, 784, 785,\n",
       "       786, 787, 788, 789, 790, 791, 792, 793, 794, 795, 796, 797, 798,\n",
       "       799, 800, 801, 802, 803, 804, 805, 806, 807, 808, 809, 810, 811,\n",
       "       812, 813, 814, 815, 816, 817, 818, 819, 820, 822, 823, 825, 826,\n",
       "       827, 828, 829, 831, 837, 838, 839, 840, 845, 849])"
      ]
     },
     "execution_count": 26,
     "metadata": {},
     "output_type": "execute_result"
    }
   ],
   "source": [
    "df_quantitave.CreditScore.unique()"
   ]
  },
  {
   "cell_type": "code",
   "execution_count": 27,
   "id": "0f646d5c",
   "metadata": {},
   "outputs": [],
   "source": [
    "def credit_range(value):\n",
    "    if value <= 650:\n",
    "        return 1\n",
    "    if value > 650 and value <=700:\n",
    "        return 2\n",
    "    if value>700 and value <=750:\n",
    "        return 3\n",
    "    if value >750:\n",
    "        return 4"
   ]
  },
  {
   "cell_type": "code",
   "execution_count": 28,
   "id": "8fd088f9",
   "metadata": {},
   "outputs": [],
   "source": [
    "df_quantitave['creditRange']= df_quantitave['CreditScore'].apply(credit_range)"
   ]
  },
  {
   "cell_type": "markdown",
   "id": "1f8a6af3",
   "metadata": {},
   "source": [
    "## Months Delinquence"
   ]
  },
  {
   "cell_type": "code",
   "execution_count": 55,
   "id": "fba63795",
   "metadata": {},
   "outputs": [
    {
     "data": {
      "text/plain": [
       "0      165098\n",
       "1       43686\n",
       "2       13973\n",
       "3        8074\n",
       "4        5591\n",
       "        ...  \n",
       "178         1\n",
       "179         1\n",
       "162         1\n",
       "165         1\n",
       "155         1\n",
       "Name: MonthsDelinquent, Length: 175, dtype: int64"
      ]
     },
     "execution_count": 55,
     "metadata": {},
     "output_type": "execute_result"
    }
   ],
   "source": [
    "df['MonthsDelinquent'].value_counts()"
   ]
  },
  {
   "cell_type": "code",
   "execution_count": 56,
   "id": "26de9196",
   "metadata": {},
   "outputs": [],
   "source": [
    "df_quantitave['MonthsDelinquentRange']= df_quantitave['MonthsDelinquent'].apply(levels_month)"
   ]
  },
  {
   "cell_type": "code",
   "execution_count": 57,
   "id": "751bfef5",
   "metadata": {},
   "outputs": [
    {
     "data": {
      "text/plain": [
       "<AxesSubplot:>"
      ]
     },
     "execution_count": 57,
     "metadata": {},
     "output_type": "execute_result"
    },
    {
     "data": {
      "image/png": "[encoded data removed]",
      "text/plain": [
       "<Figure size 432x288 with 1 Axes>"
      ]
     },
     "metadata": {
      "needs_background": "light"
     },
     "output_type": "display_data"
    }
   ],
   "source": [
    "fig, ax = plt.subplots()\n",
    "df_quantitave['MonthsDelinquentRange'].value_counts().plot(ax=ax, kind='bar')"
   ]
  },
  {
   "cell_type": "code",
   "execution_count": 58,
   "id": "6bb418e1",
   "metadata": {},
   "outputs": [],
   "source": [
    "df = df_quantitave"
   ]
  },
  {
   "cell_type": "markdown",
   "id": "0c4a759c",
   "metadata": {},
   "source": [
    "# Balance"
   ]
  },
  {
   "cell_type": "markdown",
   "id": "9b2e3c3d",
   "metadata": {},
   "source": [
    "## Target value EverDelinquent"
   ]
  },
  {
   "cell_type": "code",
   "execution_count": 30,
   "id": "33eb04c3",
   "metadata": {},
   "outputs": [
    {
     "data": {
      "text/plain": [
       "<AxesSubplot:>"
      ]
     },
     "execution_count": 30,
     "metadata": {},
     "output_type": "execute_result"
    },
    {
     "data": {
      "image/png": "[encoded data removed]",
      "text/plain": [
       "<Figure size 432x288 with 1 Axes>"
      ]
     },
     "metadata": {
      "needs_background": "light"
     },
     "output_type": "display_data"
    }
   ],
   "source": [
    "fig, ax = plt.subplots()\n",
    "df['EverDelinquent'].value_counts().plot(ax=ax, kind='bar')"
   ]
  },
  {
   "cell_type": "code",
   "execution_count": 31,
   "id": "88b8725a",
   "metadata": {},
   "outputs": [],
   "source": [
    "from imblearn.combine import SMOTETomek\n",
    "res_over_und= SMOTETomek(sampling_strategy=0.7)"
   ]
  },
  {
   "cell_type": "code",
   "execution_count": 32,
   "id": "7ecec9af",
   "metadata": {},
   "outputs": [],
   "source": [
    "X_t_res, Y_t_res = res_over_und.fit_resample(df.loc[:,df.columns!='EverDelinquent'],df.loc[:,df.columns=='EverDelinquent'])"
   ]
  },
  {
   "cell_type": "code",
   "execution_count": 33,
   "id": "031a26e5",
   "metadata": {},
   "outputs": [
    {
     "data": {
      "text/plain": [
       "<AxesSubplot:>"
      ]
     },
     "execution_count": 33,
     "metadata": {},
     "output_type": "execute_result"
    },
    {
     "data": {
      "image/png": "[encoded data removed]",
      "text/plain": [
       "<Figure size 432x288 with 1 Axes>"
      ]
     },
     "metadata": {
      "needs_background": "light"
     },
     "output_type": "display_data"
    }
   ],
   "source": [
    "fig, ax = plt.subplots()\n",
    "Y_t_res['EverDelinquent'].value_counts().plot(ax=ax, kind='bar')"
   ]
  },
  {
   "cell_type": "code",
   "execution_count": 34,
   "id": "440b34a1",
   "metadata": {},
   "outputs": [],
   "source": [
    "df = pd.concat([X_t_res,Y_t_res],axis=1)"
   ]
  },
  {
   "cell_type": "code",
   "execution_count": 35,
   "id": "00cb53b9",
   "metadata": {},
   "outputs": [
    {
     "data": {
      "text/plain": [
       "array([  0, 335, 342, 366, 375, 396, 462, 466, 471, 476, 477, 479, 481,\n",
       "       482, 483, 486, 487, 489, 490, 491, 492, 494, 495, 496, 497, 498,\n",
       "       499, 502, 503, 504, 505, 506, 507, 508, 509, 510, 511, 512, 513,\n",
       "       514, 515, 516, 517, 518, 519, 520, 521, 522, 523, 524, 525, 526,\n",
       "       527, 528, 529, 530, 531, 532, 533, 534, 535, 536, 537, 538, 539,\n",
       "       540, 541, 542, 543, 544, 545, 546, 547, 548, 549, 550, 551, 552,\n",
       "       553, 554, 555, 556, 557, 558, 559, 560, 561, 562, 563, 564, 565,\n",
       "       566, 567, 568, 569, 570, 571, 572, 573, 574, 575, 576, 577, 578,\n",
       "       579, 580, 581, 582, 583, 584, 585, 586, 587, 588, 589, 590, 591,\n",
       "       592, 593, 594, 595, 596, 597, 598, 599, 600, 601, 602, 603, 604,\n",
       "       605, 606, 607, 608, 609, 610, 611, 612, 613, 614, 615, 616, 617,\n",
       "       618, 619, 620, 621, 622, 623, 624, 625, 626, 627, 628, 629, 630,\n",
       "       631, 632, 633, 634, 635, 636, 637, 638, 639, 640, 641, 642, 643,\n",
       "       644, 645, 646, 647, 648, 649, 650, 651, 652, 653, 654, 655, 656,\n",
       "       657, 658, 659, 660, 661, 662, 663, 664, 665, 666, 667, 668, 669,\n",
       "       670, 671, 672, 673, 674, 675, 676, 677, 678, 679, 680, 681, 682,\n",
       "       683, 684, 685, 686, 687, 688, 689, 690, 691, 692, 693, 694, 695,\n",
       "       696, 697, 698, 699, 700, 701, 702, 703, 704, 705, 706, 707, 708,\n",
       "       709, 710, 711, 712, 713, 714, 715, 716, 717, 718, 719, 720, 721,\n",
       "       722, 723, 724, 725, 726, 727, 728, 729, 730, 731, 732, 733, 734,\n",
       "       735, 736, 737, 738, 739, 740, 741, 742, 743, 744, 745, 746, 747,\n",
       "       748, 749, 750, 751, 752, 753, 754, 755, 756, 757, 758, 759, 760,\n",
       "       761, 762, 763, 764, 765, 766, 767, 768, 769, 770, 771, 772, 773,\n",
       "       774, 775, 776, 777, 778, 779, 780, 781, 782, 783, 784, 785, 786,\n",
       "       787, 788, 789, 790, 791, 792, 793, 794, 795, 796, 797, 798, 799,\n",
       "       800, 801, 802, 803, 804, 805, 806, 807, 808, 809, 810, 811, 812,\n",
       "       813, 814, 815, 816, 817, 818, 819, 820, 822, 823, 825, 826, 827,\n",
       "       828, 829, 831, 837, 838, 839, 840, 845, 849,  35, 397, 108,  27,\n",
       "        26,  16, 425, 123,  97, 259,  88, 390, 145, 373, 128, 284, 240,\n",
       "       353, 406,  96,  71, 416, 226, 418, 332,  25, 420, 136, 252, 138,\n",
       "       206, 340, 177, 321, 176,  38,  54, 391, 392, 413, 444, 180, 150,\n",
       "       168, 484, 382, 140, 429, 319, 130, 384, 196, 220, 436, 268, 162,\n",
       "       363, 179, 241,   8, 351,  79, 306, 154,   2, 368, 200,  90, 451,\n",
       "       260, 101, 105, 265,  53, 427, 278, 309, 193, 407, 194, 405,  78,\n",
       "       189, 254, 314, 243, 114,  81, 450, 102, 148, 409, 267, 419, 253,\n",
       "       468,  92, 134, 470, 149, 376, 231, 439, 500, 270,  22,  91, 329,\n",
       "       478, 308, 297, 412,  29, 202, 264, 359, 313, 312, 327, 441,   1,\n",
       "       251, 135,  83, 289, 237, 285, 215, 393, 207, 422, 417, 151, 399,\n",
       "        51, 110, 461, 370, 119, 465,  55, 339,  42,  34, 372, 111, 433,\n",
       "       331,   3, 316, 296,  94, 431, 394, 223, 326, 458,  11, 144,  59,\n",
       "       247, 438, 100, 227, 239, 318,  50,  64,  41, 117, 501, 211, 261,\n",
       "       355, 112, 159, 126, 472, 141, 383, 131, 172, 236, 283,  18, 195,\n",
       "       132,  45, 320,  76, 160, 116, 415, 286,  40,  69, 401, 378, 155,\n",
       "       325, 256, 274, 347,  82, 350, 246,  28, 124, 398,  73, 379,  43,\n",
       "       217,   4, 421, 139, 198,  80, 156, 242, 448,  12, 209, 158,  63,\n",
       "       263, 186, 121, 460, 273,  19,  68, 212,  23,  33, 389, 493, 357,\n",
       "        14, 311, 201, 208, 287, 386, 388,  37,   5])"
      ]
     },
     "execution_count": 35,
     "metadata": {},
     "output_type": "execute_result"
    }
   ],
   "source": [
    "df['CreditScore'].unique()"
   ]
  },
  {
   "cell_type": "markdown",
   "id": "fd16e27d",
   "metadata": {},
   "source": [
    "# Insights"
   ]
  },
  {
   "cell_type": "code",
   "execution_count": 41,
   "id": "5b10eec4",
   "metadata": {},
   "outputs": [
    {
     "name": "stdout",
     "output_type": "stream",
     "text": [
      "                    1         0\n",
      "creditRange                    \n",
      "1            0.681055  0.318945\n",
      "2            0.501763  0.498237\n",
      "3            0.317321  0.682679\n",
      "4            0.178123  0.821877\n"
     ]
    }
   ],
   "source": [
    "a = df.loc[:,['creditRange','EverDelinquent']].groupby('creditRange', group_keys=True)\n",
    "visualice = pd.DataFrame()\n",
    "visualice['1'] = a.mean()\n",
    "visualice['0'] = 1-a.mean()\n",
    "print(visualice)"
   ]
  },
  {
   "cell_type": "code",
   "execution_count": 44,
   "id": "13859dd1",
   "metadata": {},
   "outputs": [
    {
     "data": {
      "text/plain": [
       "<AxesSubplot:xlabel='creditRange'>"
      ]
     },
     "execution_count": 44,
     "metadata": {},
     "output_type": "execute_result"
    },
    {
     "data": {
      "image/png": "[encoded data removed]",
      "text/plain": [
       "<Figure size 432x288 with 1 Axes>"
      ]
     },
     "metadata": {
      "needs_background": "light"
     },
     "output_type": "display_data"
    }
   ],
   "source": [
    "visualice.plot.bar()"
   ]
  },
  {
   "cell_type": "markdown",
   "id": "4bcd7456",
   "metadata": {},
   "source": [
    "## We see that if we have more credit decrease the people that's gonna pay in time"
   ]
  },
  {
   "cell_type": "markdown",
   "id": "37f96a01",
   "metadata": {},
   "source": [
    "## Months Repayment Range"
   ]
  },
  {
   "cell_type": "code",
   "execution_count": 46,
   "id": "2dd5fe5f",
   "metadata": {},
   "outputs": [],
   "source": [
    "b = df.loc[:,['RepayRange','EverDelinquent']].groupby('RepayRange', group_keys=True)"
   ]
  },
  {
   "cell_type": "code",
   "execution_count": 47,
   "id": "4f80bcb3",
   "metadata": {},
   "outputs": [
    {
     "name": "stdout",
     "output_type": "stream",
     "text": [
      "                   1         0\n",
      "RepayRange                    \n",
      "1           0.326410  0.673590\n",
      "2           0.419253  0.580747\n",
      "3           0.523142  0.476858\n",
      "4           0.635658  0.364342\n",
      "5           0.727653  0.272347\n"
     ]
    }
   ],
   "source": [
    "visualice = pd.DataFrame()\n",
    "visualice['1'] = b.mean()\n",
    "visualice['0'] = 1-b.mean()\n",
    "print(visualice)"
   ]
  },
  {
   "cell_type": "code",
   "execution_count": 48,
   "id": "ddd42b49",
   "metadata": {},
   "outputs": [
    {
     "data": {
      "text/plain": [
       "<AxesSubplot:xlabel='RepayRange'>"
      ]
     },
     "execution_count": 48,
     "metadata": {},
     "output_type": "execute_result"
    },
    {
     "data": {
      "image/png": "[encoded data removed]",
      "text/plain": [
       "<Figure size 432x288 with 1 Axes>"
      ]
     },
     "metadata": {
      "needs_background": "light"
     },
     "output_type": "display_data"
    }
   ],
   "source": [
    "visualice.plot.bar()"
   ]
  },
  {
   "cell_type": "markdown",
   "id": "154fe03d",
   "metadata": {},
   "source": [
    "## We see that the most people pay on the last range month (more time)"
   ]
  },
  {
   "cell_type": "markdown",
   "id": "898a1698",
   "metadata": {},
   "source": [
    "## Months Delinquent Range"
   ]
  },
  {
   "cell_type": "code",
   "execution_count": 59,
   "id": "8c6eb626",
   "metadata": {},
   "outputs": [],
   "source": [
    "b = df.loc[:,['MonthsDelinquentRange','EverDelinquent']].groupby('MonthsDelinquentRange', group_keys=True)"
   ]
  },
  {
   "cell_type": "code",
   "execution_count": 60,
   "id": "6f149831",
   "metadata": {},
   "outputs": [
    {
     "name": "stdout",
     "output_type": "stream",
     "text": [
      "                              1         0\n",
      "MonthsDelinquentRange                    \n",
      "1                      0.188826  0.811174\n",
      "2                      1.000000  0.000000\n",
      "3                      1.000000  0.000000\n",
      "4                      1.000000  0.000000\n"
     ]
    }
   ],
   "source": [
    "visualice = pd.DataFrame()\n",
    "visualice['1'] = b.mean()\n",
    "visualice['0'] = 1-b.mean()\n",
    "print(visualice)"
   ]
  },
  {
   "cell_type": "code",
   "execution_count": 64,
   "id": "07a24e74",
   "metadata": {},
   "outputs": [
    {
     "data": {
      "text/plain": [
       "<AxesSubplot:xlabel='MonthsDelinquentRange'>"
      ]
     },
     "execution_count": 64,
     "metadata": {},
     "output_type": "execute_result"
    },
    {
     "data": {
      "image/png": "[encoded data removed]",
      "text/plain": [
       "<Figure size 432x288 with 1 Axes>"
      ]
     },
     "metadata": {
      "needs_background": "light"
     },
     "output_type": "display_data"
    }
   ],
   "source": [
    "visualice.plot.bar()"
   ]
  },
  {
   "cell_type": "code",
   "execution_count": 69,
   "id": "72f85a9d",
   "metadata": {},
   "outputs": [
    {
     "data": {
      "text/html": [
       "<div>\n",
       "<style scoped>\n",
       "    .dataframe tbody tr th:only-of-type {\n",
       "        vertical-align: middle;\n",
       "    }\n",
       "\n",
       "    .dataframe tbody tr th {\n",
       "        vertical-align: top;\n",
       "    }\n",
       "\n",
       "    .dataframe thead th {\n",
       "        text-align: right;\n",
       "    }\n",
       "</style>\n",
       "<table border=\"1\" class=\"dataframe\">\n",
       "  <thead>\n",
       "    <tr style=\"text-align: right;\">\n",
       "      <th></th>\n",
       "      <th>CreditScore</th>\n",
       "      <th>MIP</th>\n",
       "      <th>Units</th>\n",
       "      <th>OCLTV</th>\n",
       "      <th>DTI</th>\n",
       "      <th>OrigUPB</th>\n",
       "      <th>LTV</th>\n",
       "      <th>OrigInterestRate</th>\n",
       "      <th>OrigLoanTerm</th>\n",
       "      <th>EverDelinquent</th>\n",
       "      <th>MonthsDelinquent</th>\n",
       "      <th>MonthsInRepayment</th>\n",
       "      <th>RepayRange</th>\n",
       "      <th>ltvRange</th>\n",
       "      <th>creditRange</th>\n",
       "      <th>MonthsDelinquentRange</th>\n",
       "    </tr>\n",
       "  </thead>\n",
       "  <tbody>\n",
       "    <tr>\n",
       "      <th>51</th>\n",
       "      <td>0</td>\n",
       "      <td>30</td>\n",
       "      <td>1</td>\n",
       "      <td>95</td>\n",
       "      <td>48</td>\n",
       "      <td>182000</td>\n",
       "      <td>95</td>\n",
       "      <td>6.750</td>\n",
       "      <td>360</td>\n",
       "      <td>0</td>\n",
       "      <td>0</td>\n",
       "      <td>41</td>\n",
       "      <td>1</td>\n",
       "      <td>3</td>\n",
       "      <td>1</td>\n",
       "      <td>1</td>\n",
       "    </tr>\n",
       "    <tr>\n",
       "      <th>52</th>\n",
       "      <td>0</td>\n",
       "      <td>0</td>\n",
       "      <td>1</td>\n",
       "      <td>76</td>\n",
       "      <td>30</td>\n",
       "      <td>98000</td>\n",
       "      <td>76</td>\n",
       "      <td>6.875</td>\n",
       "      <td>360</td>\n",
       "      <td>0</td>\n",
       "      <td>0</td>\n",
       "      <td>211</td>\n",
       "      <td>5</td>\n",
       "      <td>3</td>\n",
       "      <td>1</td>\n",
       "      <td>1</td>\n",
       "    </tr>\n",
       "    <tr>\n",
       "      <th>53</th>\n",
       "      <td>0</td>\n",
       "      <td>0</td>\n",
       "      <td>1</td>\n",
       "      <td>80</td>\n",
       "      <td>31</td>\n",
       "      <td>89000</td>\n",
       "      <td>80</td>\n",
       "      <td>6.250</td>\n",
       "      <td>360</td>\n",
       "      <td>0</td>\n",
       "      <td>0</td>\n",
       "      <td>76</td>\n",
       "      <td>2</td>\n",
       "      <td>3</td>\n",
       "      <td>1</td>\n",
       "      <td>1</td>\n",
       "    </tr>\n",
       "    <tr>\n",
       "      <th>54</th>\n",
       "      <td>0</td>\n",
       "      <td>0</td>\n",
       "      <td>1</td>\n",
       "      <td>80</td>\n",
       "      <td>30</td>\n",
       "      <td>172000</td>\n",
       "      <td>80</td>\n",
       "      <td>6.500</td>\n",
       "      <td>360</td>\n",
       "      <td>0</td>\n",
       "      <td>0</td>\n",
       "      <td>54</td>\n",
       "      <td>2</td>\n",
       "      <td>3</td>\n",
       "      <td>1</td>\n",
       "      <td>1</td>\n",
       "    </tr>\n",
       "    <tr>\n",
       "      <th>55</th>\n",
       "      <td>0</td>\n",
       "      <td>25</td>\n",
       "      <td>1</td>\n",
       "      <td>90</td>\n",
       "      <td>15</td>\n",
       "      <td>82000</td>\n",
       "      <td>90</td>\n",
       "      <td>7.125</td>\n",
       "      <td>360</td>\n",
       "      <td>0</td>\n",
       "      <td>0</td>\n",
       "      <td>49</td>\n",
       "      <td>2</td>\n",
       "      <td>3</td>\n",
       "      <td>1</td>\n",
       "      <td>1</td>\n",
       "    </tr>\n",
       "    <tr>\n",
       "      <th>56</th>\n",
       "      <td>0</td>\n",
       "      <td>0</td>\n",
       "      <td>1</td>\n",
       "      <td>62</td>\n",
       "      <td>22</td>\n",
       "      <td>240000</td>\n",
       "      <td>62</td>\n",
       "      <td>6.500</td>\n",
       "      <td>360</td>\n",
       "      <td>0</td>\n",
       "      <td>0</td>\n",
       "      <td>47</td>\n",
       "      <td>1</td>\n",
       "      <td>3</td>\n",
       "      <td>1</td>\n",
       "      <td>1</td>\n",
       "    </tr>\n",
       "    <tr>\n",
       "      <th>57</th>\n",
       "      <td>0</td>\n",
       "      <td>30</td>\n",
       "      <td>1</td>\n",
       "      <td>95</td>\n",
       "      <td>20</td>\n",
       "      <td>102000</td>\n",
       "      <td>95</td>\n",
       "      <td>7.125</td>\n",
       "      <td>360</td>\n",
       "      <td>0</td>\n",
       "      <td>0</td>\n",
       "      <td>44</td>\n",
       "      <td>1</td>\n",
       "      <td>3</td>\n",
       "      <td>1</td>\n",
       "      <td>1</td>\n",
       "    </tr>\n",
       "    <tr>\n",
       "      <th>58</th>\n",
       "      <td>0</td>\n",
       "      <td>30</td>\n",
       "      <td>1</td>\n",
       "      <td>95</td>\n",
       "      <td>18</td>\n",
       "      <td>173000</td>\n",
       "      <td>95</td>\n",
       "      <td>6.625</td>\n",
       "      <td>360</td>\n",
       "      <td>0</td>\n",
       "      <td>0</td>\n",
       "      <td>18</td>\n",
       "      <td>1</td>\n",
       "      <td>3</td>\n",
       "      <td>1</td>\n",
       "      <td>1</td>\n",
       "    </tr>\n",
       "    <tr>\n",
       "      <th>59</th>\n",
       "      <td>0</td>\n",
       "      <td>0</td>\n",
       "      <td>1</td>\n",
       "      <td>44</td>\n",
       "      <td>17</td>\n",
       "      <td>200000</td>\n",
       "      <td>44</td>\n",
       "      <td>6.750</td>\n",
       "      <td>360</td>\n",
       "      <td>0</td>\n",
       "      <td>0</td>\n",
       "      <td>66</td>\n",
       "      <td>2</td>\n",
       "      <td>2</td>\n",
       "      <td>1</td>\n",
       "      <td>1</td>\n",
       "    </tr>\n",
       "    <tr>\n",
       "      <th>60</th>\n",
       "      <td>0</td>\n",
       "      <td>30</td>\n",
       "      <td>1</td>\n",
       "      <td>95</td>\n",
       "      <td>31</td>\n",
       "      <td>77000</td>\n",
       "      <td>95</td>\n",
       "      <td>6.625</td>\n",
       "      <td>360</td>\n",
       "      <td>1</td>\n",
       "      <td>2</td>\n",
       "      <td>212</td>\n",
       "      <td>5</td>\n",
       "      <td>3</td>\n",
       "      <td>1</td>\n",
       "      <td>1</td>\n",
       "    </tr>\n",
       "    <tr>\n",
       "      <th>61</th>\n",
       "      <td>0</td>\n",
       "      <td>0</td>\n",
       "      <td>1</td>\n",
       "      <td>32</td>\n",
       "      <td>56</td>\n",
       "      <td>51000</td>\n",
       "      <td>32</td>\n",
       "      <td>7.500</td>\n",
       "      <td>360</td>\n",
       "      <td>0</td>\n",
       "      <td>0</td>\n",
       "      <td>19</td>\n",
       "      <td>1</td>\n",
       "      <td>2</td>\n",
       "      <td>1</td>\n",
       "      <td>1</td>\n",
       "    </tr>\n",
       "    <tr>\n",
       "      <th>62</th>\n",
       "      <td>0</td>\n",
       "      <td>0</td>\n",
       "      <td>1</td>\n",
       "      <td>64</td>\n",
       "      <td>19</td>\n",
       "      <td>169000</td>\n",
       "      <td>64</td>\n",
       "      <td>7.125</td>\n",
       "      <td>360</td>\n",
       "      <td>0</td>\n",
       "      <td>0</td>\n",
       "      <td>44</td>\n",
       "      <td>1</td>\n",
       "      <td>3</td>\n",
       "      <td>1</td>\n",
       "      <td>1</td>\n",
       "    </tr>\n",
       "    <tr>\n",
       "      <th>63</th>\n",
       "      <td>0</td>\n",
       "      <td>0</td>\n",
       "      <td>1</td>\n",
       "      <td>78</td>\n",
       "      <td>38</td>\n",
       "      <td>101000</td>\n",
       "      <td>78</td>\n",
       "      <td>7.125</td>\n",
       "      <td>360</td>\n",
       "      <td>1</td>\n",
       "      <td>23</td>\n",
       "      <td>43</td>\n",
       "      <td>1</td>\n",
       "      <td>3</td>\n",
       "      <td>1</td>\n",
       "      <td>1</td>\n",
       "    </tr>\n",
       "    <tr>\n",
       "      <th>64</th>\n",
       "      <td>0</td>\n",
       "      <td>0</td>\n",
       "      <td>1</td>\n",
       "      <td>80</td>\n",
       "      <td>32</td>\n",
       "      <td>152000</td>\n",
       "      <td>80</td>\n",
       "      <td>6.625</td>\n",
       "      <td>360</td>\n",
       "      <td>1</td>\n",
       "      <td>1</td>\n",
       "      <td>211</td>\n",
       "      <td>5</td>\n",
       "      <td>3</td>\n",
       "      <td>1</td>\n",
       "      <td>1</td>\n",
       "    </tr>\n",
       "    <tr>\n",
       "      <th>65</th>\n",
       "      <td>0</td>\n",
       "      <td>30</td>\n",
       "      <td>1</td>\n",
       "      <td>91</td>\n",
       "      <td>28</td>\n",
       "      <td>50000</td>\n",
       "      <td>91</td>\n",
       "      <td>7.500</td>\n",
       "      <td>360</td>\n",
       "      <td>1</td>\n",
       "      <td>20</td>\n",
       "      <td>60</td>\n",
       "      <td>2</td>\n",
       "      <td>3</td>\n",
       "      <td>1</td>\n",
       "      <td>1</td>\n",
       "    </tr>\n",
       "    <tr>\n",
       "      <th>66</th>\n",
       "      <td>0</td>\n",
       "      <td>30</td>\n",
       "      <td>1</td>\n",
       "      <td>95</td>\n",
       "      <td>12</td>\n",
       "      <td>141000</td>\n",
       "      <td>95</td>\n",
       "      <td>6.750</td>\n",
       "      <td>360</td>\n",
       "      <td>0</td>\n",
       "      <td>0</td>\n",
       "      <td>54</td>\n",
       "      <td>2</td>\n",
       "      <td>3</td>\n",
       "      <td>1</td>\n",
       "      <td>1</td>\n",
       "    </tr>\n",
       "    <tr>\n",
       "      <th>67</th>\n",
       "      <td>0</td>\n",
       "      <td>0</td>\n",
       "      <td>1</td>\n",
       "      <td>73</td>\n",
       "      <td>39</td>\n",
       "      <td>47000</td>\n",
       "      <td>73</td>\n",
       "      <td>6.500</td>\n",
       "      <td>360</td>\n",
       "      <td>0</td>\n",
       "      <td>0</td>\n",
       "      <td>83</td>\n",
       "      <td>2</td>\n",
       "      <td>3</td>\n",
       "      <td>1</td>\n",
       "      <td>1</td>\n",
       "    </tr>\n",
       "    <tr>\n",
       "      <th>68</th>\n",
       "      <td>0</td>\n",
       "      <td>0</td>\n",
       "      <td>1</td>\n",
       "      <td>53</td>\n",
       "      <td>24</td>\n",
       "      <td>90000</td>\n",
       "      <td>53</td>\n",
       "      <td>6.750</td>\n",
       "      <td>360</td>\n",
       "      <td>1</td>\n",
       "      <td>10</td>\n",
       "      <td>95</td>\n",
       "      <td>2</td>\n",
       "      <td>3</td>\n",
       "      <td>1</td>\n",
       "      <td>1</td>\n",
       "    </tr>\n",
       "    <tr>\n",
       "      <th>69</th>\n",
       "      <td>0</td>\n",
       "      <td>0</td>\n",
       "      <td>1</td>\n",
       "      <td>70</td>\n",
       "      <td>6</td>\n",
       "      <td>126000</td>\n",
       "      <td>70</td>\n",
       "      <td>8.125</td>\n",
       "      <td>360</td>\n",
       "      <td>0</td>\n",
       "      <td>0</td>\n",
       "      <td>29</td>\n",
       "      <td>1</td>\n",
       "      <td>3</td>\n",
       "      <td>1</td>\n",
       "      <td>1</td>\n",
       "    </tr>\n",
       "    <tr>\n",
       "      <th>70</th>\n",
       "      <td>0</td>\n",
       "      <td>30</td>\n",
       "      <td>1</td>\n",
       "      <td>95</td>\n",
       "      <td>24</td>\n",
       "      <td>128000</td>\n",
       "      <td>95</td>\n",
       "      <td>7.750</td>\n",
       "      <td>360</td>\n",
       "      <td>1</td>\n",
       "      <td>3</td>\n",
       "      <td>45</td>\n",
       "      <td>1</td>\n",
       "      <td>3</td>\n",
       "      <td>1</td>\n",
       "      <td>1</td>\n",
       "    </tr>\n",
       "    <tr>\n",
       "      <th>71</th>\n",
       "      <td>0</td>\n",
       "      <td>30</td>\n",
       "      <td>1</td>\n",
       "      <td>95</td>\n",
       "      <td>31</td>\n",
       "      <td>133000</td>\n",
       "      <td>95</td>\n",
       "      <td>7.625</td>\n",
       "      <td>360</td>\n",
       "      <td>1</td>\n",
       "      <td>10</td>\n",
       "      <td>13</td>\n",
       "      <td>1</td>\n",
       "      <td>3</td>\n",
       "      <td>1</td>\n",
       "      <td>1</td>\n",
       "    </tr>\n",
       "    <tr>\n",
       "      <th>72</th>\n",
       "      <td>0</td>\n",
       "      <td>30</td>\n",
       "      <td>1</td>\n",
       "      <td>95</td>\n",
       "      <td>31</td>\n",
       "      <td>135000</td>\n",
       "      <td>95</td>\n",
       "      <td>6.875</td>\n",
       "      <td>360</td>\n",
       "      <td>1</td>\n",
       "      <td>3</td>\n",
       "      <td>29</td>\n",
       "      <td>1</td>\n",
       "      <td>3</td>\n",
       "      <td>1</td>\n",
       "      <td>1</td>\n",
       "    </tr>\n",
       "    <tr>\n",
       "      <th>73</th>\n",
       "      <td>0</td>\n",
       "      <td>0</td>\n",
       "      <td>1</td>\n",
       "      <td>69</td>\n",
       "      <td>37</td>\n",
       "      <td>111000</td>\n",
       "      <td>69</td>\n",
       "      <td>7.150</td>\n",
       "      <td>360</td>\n",
       "      <td>0</td>\n",
       "      <td>0</td>\n",
       "      <td>44</td>\n",
       "      <td>1</td>\n",
       "      <td>3</td>\n",
       "      <td>1</td>\n",
       "      <td>1</td>\n",
       "    </tr>\n",
       "    <tr>\n",
       "      <th>74</th>\n",
       "      <td>0</td>\n",
       "      <td>0</td>\n",
       "      <td>1</td>\n",
       "      <td>75</td>\n",
       "      <td>14</td>\n",
       "      <td>115000</td>\n",
       "      <td>75</td>\n",
       "      <td>6.875</td>\n",
       "      <td>360</td>\n",
       "      <td>0</td>\n",
       "      <td>0</td>\n",
       "      <td>6</td>\n",
       "      <td>1</td>\n",
       "      <td>3</td>\n",
       "      <td>1</td>\n",
       "      <td>1</td>\n",
       "    </tr>\n",
       "    <tr>\n",
       "      <th>75</th>\n",
       "      <td>0</td>\n",
       "      <td>25</td>\n",
       "      <td>1</td>\n",
       "      <td>90</td>\n",
       "      <td>36</td>\n",
       "      <td>115000</td>\n",
       "      <td>90</td>\n",
       "      <td>6.750</td>\n",
       "      <td>360</td>\n",
       "      <td>0</td>\n",
       "      <td>0</td>\n",
       "      <td>48</td>\n",
       "      <td>1</td>\n",
       "      <td>3</td>\n",
       "      <td>1</td>\n",
       "      <td>1</td>\n",
       "    </tr>\n",
       "    <tr>\n",
       "      <th>76</th>\n",
       "      <td>0</td>\n",
       "      <td>25</td>\n",
       "      <td>1</td>\n",
       "      <td>90</td>\n",
       "      <td>43</td>\n",
       "      <td>56000</td>\n",
       "      <td>90</td>\n",
       "      <td>7.250</td>\n",
       "      <td>360</td>\n",
       "      <td>0</td>\n",
       "      <td>0</td>\n",
       "      <td>50</td>\n",
       "      <td>2</td>\n",
       "      <td>3</td>\n",
       "      <td>1</td>\n",
       "      <td>1</td>\n",
       "    </tr>\n",
       "    <tr>\n",
       "      <th>77</th>\n",
       "      <td>0</td>\n",
       "      <td>25</td>\n",
       "      <td>1</td>\n",
       "      <td>90</td>\n",
       "      <td>22</td>\n",
       "      <td>144000</td>\n",
       "      <td>90</td>\n",
       "      <td>6.875</td>\n",
       "      <td>360</td>\n",
       "      <td>0</td>\n",
       "      <td>0</td>\n",
       "      <td>62</td>\n",
       "      <td>2</td>\n",
       "      <td>3</td>\n",
       "      <td>1</td>\n",
       "      <td>1</td>\n",
       "    </tr>\n",
       "    <tr>\n",
       "      <th>78</th>\n",
       "      <td>0</td>\n",
       "      <td>0</td>\n",
       "      <td>1</td>\n",
       "      <td>80</td>\n",
       "      <td>31</td>\n",
       "      <td>146000</td>\n",
       "      <td>80</td>\n",
       "      <td>7.375</td>\n",
       "      <td>360</td>\n",
       "      <td>0</td>\n",
       "      <td>0</td>\n",
       "      <td>48</td>\n",
       "      <td>1</td>\n",
       "      <td>3</td>\n",
       "      <td>1</td>\n",
       "      <td>1</td>\n",
       "    </tr>\n",
       "    <tr>\n",
       "      <th>79</th>\n",
       "      <td>0</td>\n",
       "      <td>25</td>\n",
       "      <td>1</td>\n",
       "      <td>90</td>\n",
       "      <td>42</td>\n",
       "      <td>212000</td>\n",
       "      <td>90</td>\n",
       "      <td>7.250</td>\n",
       "      <td>360</td>\n",
       "      <td>1</td>\n",
       "      <td>34</td>\n",
       "      <td>60</td>\n",
       "      <td>2</td>\n",
       "      <td>3</td>\n",
       "      <td>1</td>\n",
       "      <td>1</td>\n",
       "    </tr>\n",
       "    <tr>\n",
       "      <th>80</th>\n",
       "      <td>0</td>\n",
       "      <td>0</td>\n",
       "      <td>1</td>\n",
       "      <td>72</td>\n",
       "      <td>34</td>\n",
       "      <td>176000</td>\n",
       "      <td>72</td>\n",
       "      <td>6.875</td>\n",
       "      <td>360</td>\n",
       "      <td>0</td>\n",
       "      <td>0</td>\n",
       "      <td>14</td>\n",
       "      <td>1</td>\n",
       "      <td>3</td>\n",
       "      <td>1</td>\n",
       "      <td>1</td>\n",
       "    </tr>\n",
       "    <tr>\n",
       "      <th>81</th>\n",
       "      <td>0</td>\n",
       "      <td>0</td>\n",
       "      <td>1</td>\n",
       "      <td>76</td>\n",
       "      <td>31</td>\n",
       "      <td>200000</td>\n",
       "      <td>76</td>\n",
       "      <td>6.750</td>\n",
       "      <td>360</td>\n",
       "      <td>0</td>\n",
       "      <td>0</td>\n",
       "      <td>44</td>\n",
       "      <td>1</td>\n",
       "      <td>3</td>\n",
       "      <td>1</td>\n",
       "      <td>1</td>\n",
       "    </tr>\n",
       "    <tr>\n",
       "      <th>82</th>\n",
       "      <td>0</td>\n",
       "      <td>0</td>\n",
       "      <td>1</td>\n",
       "      <td>79</td>\n",
       "      <td>31</td>\n",
       "      <td>214000</td>\n",
       "      <td>79</td>\n",
       "      <td>6.875</td>\n",
       "      <td>360</td>\n",
       "      <td>0</td>\n",
       "      <td>0</td>\n",
       "      <td>14</td>\n",
       "      <td>1</td>\n",
       "      <td>3</td>\n",
       "      <td>1</td>\n",
       "      <td>1</td>\n",
       "    </tr>\n",
       "    <tr>\n",
       "      <th>83</th>\n",
       "      <td>0</td>\n",
       "      <td>0</td>\n",
       "      <td>1</td>\n",
       "      <td>80</td>\n",
       "      <td>33</td>\n",
       "      <td>190000</td>\n",
       "      <td>80</td>\n",
       "      <td>6.500</td>\n",
       "      <td>360</td>\n",
       "      <td>1</td>\n",
       "      <td>2</td>\n",
       "      <td>54</td>\n",
       "      <td>2</td>\n",
       "      <td>3</td>\n",
       "      <td>1</td>\n",
       "      <td>1</td>\n",
       "    </tr>\n",
       "    <tr>\n",
       "      <th>84</th>\n",
       "      <td>0</td>\n",
       "      <td>0</td>\n",
       "      <td>1</td>\n",
       "      <td>60</td>\n",
       "      <td>35</td>\n",
       "      <td>111000</td>\n",
       "      <td>60</td>\n",
       "      <td>6.250</td>\n",
       "      <td>360</td>\n",
       "      <td>1</td>\n",
       "      <td>5</td>\n",
       "      <td>67</td>\n",
       "      <td>2</td>\n",
       "      <td>3</td>\n",
       "      <td>1</td>\n",
       "      <td>1</td>\n",
       "    </tr>\n",
       "    <tr>\n",
       "      <th>85</th>\n",
       "      <td>0</td>\n",
       "      <td>25</td>\n",
       "      <td>2</td>\n",
       "      <td>90</td>\n",
       "      <td>38</td>\n",
       "      <td>212000</td>\n",
       "      <td>90</td>\n",
       "      <td>6.750</td>\n",
       "      <td>360</td>\n",
       "      <td>1</td>\n",
       "      <td>35</td>\n",
       "      <td>37</td>\n",
       "      <td>1</td>\n",
       "      <td>3</td>\n",
       "      <td>1</td>\n",
       "      <td>1</td>\n",
       "    </tr>\n",
       "    <tr>\n",
       "      <th>86</th>\n",
       "      <td>0</td>\n",
       "      <td>0</td>\n",
       "      <td>1</td>\n",
       "      <td>70</td>\n",
       "      <td>39</td>\n",
       "      <td>227000</td>\n",
       "      <td>70</td>\n",
       "      <td>6.375</td>\n",
       "      <td>360</td>\n",
       "      <td>0</td>\n",
       "      <td>0</td>\n",
       "      <td>52</td>\n",
       "      <td>2</td>\n",
       "      <td>3</td>\n",
       "      <td>1</td>\n",
       "      <td>1</td>\n",
       "    </tr>\n",
       "    <tr>\n",
       "      <th>87</th>\n",
       "      <td>0</td>\n",
       "      <td>0</td>\n",
       "      <td>1</td>\n",
       "      <td>32</td>\n",
       "      <td>21</td>\n",
       "      <td>99000</td>\n",
       "      <td>32</td>\n",
       "      <td>7.250</td>\n",
       "      <td>360</td>\n",
       "      <td>0</td>\n",
       "      <td>0</td>\n",
       "      <td>15</td>\n",
       "      <td>1</td>\n",
       "      <td>2</td>\n",
       "      <td>1</td>\n",
       "      <td>1</td>\n",
       "    </tr>\n",
       "    <tr>\n",
       "      <th>88</th>\n",
       "      <td>0</td>\n",
       "      <td>0</td>\n",
       "      <td>1</td>\n",
       "      <td>75</td>\n",
       "      <td>11</td>\n",
       "      <td>83000</td>\n",
       "      <td>75</td>\n",
       "      <td>7.750</td>\n",
       "      <td>360</td>\n",
       "      <td>0</td>\n",
       "      <td>0</td>\n",
       "      <td>53</td>\n",
       "      <td>2</td>\n",
       "      <td>3</td>\n",
       "      <td>1</td>\n",
       "      <td>1</td>\n",
       "    </tr>\n",
       "    <tr>\n",
       "      <th>89</th>\n",
       "      <td>0</td>\n",
       "      <td>30</td>\n",
       "      <td>1</td>\n",
       "      <td>95</td>\n",
       "      <td>34</td>\n",
       "      <td>49000</td>\n",
       "      <td>95</td>\n",
       "      <td>6.750</td>\n",
       "      <td>360</td>\n",
       "      <td>0</td>\n",
       "      <td>0</td>\n",
       "      <td>211</td>\n",
       "      <td>5</td>\n",
       "      <td>3</td>\n",
       "      <td>1</td>\n",
       "      <td>1</td>\n",
       "    </tr>\n",
       "    <tr>\n",
       "      <th>90</th>\n",
       "      <td>0</td>\n",
       "      <td>0</td>\n",
       "      <td>1</td>\n",
       "      <td>54</td>\n",
       "      <td>19</td>\n",
       "      <td>29000</td>\n",
       "      <td>54</td>\n",
       "      <td>7.250</td>\n",
       "      <td>360</td>\n",
       "      <td>0</td>\n",
       "      <td>0</td>\n",
       "      <td>111</td>\n",
       "      <td>3</td>\n",
       "      <td>3</td>\n",
       "      <td>1</td>\n",
       "      <td>1</td>\n",
       "    </tr>\n",
       "    <tr>\n",
       "      <th>91</th>\n",
       "      <td>0</td>\n",
       "      <td>0</td>\n",
       "      <td>1</td>\n",
       "      <td>74</td>\n",
       "      <td>25</td>\n",
       "      <td>124000</td>\n",
       "      <td>74</td>\n",
       "      <td>6.750</td>\n",
       "      <td>360</td>\n",
       "      <td>0</td>\n",
       "      <td>0</td>\n",
       "      <td>52</td>\n",
       "      <td>2</td>\n",
       "      <td>3</td>\n",
       "      <td>1</td>\n",
       "      <td>1</td>\n",
       "    </tr>\n",
       "    <tr>\n",
       "      <th>92</th>\n",
       "      <td>0</td>\n",
       "      <td>30</td>\n",
       "      <td>1</td>\n",
       "      <td>95</td>\n",
       "      <td>27</td>\n",
       "      <td>132000</td>\n",
       "      <td>95</td>\n",
       "      <td>6.625</td>\n",
       "      <td>360</td>\n",
       "      <td>1</td>\n",
       "      <td>2</td>\n",
       "      <td>51</td>\n",
       "      <td>2</td>\n",
       "      <td>3</td>\n",
       "      <td>1</td>\n",
       "      <td>1</td>\n",
       "    </tr>\n",
       "    <tr>\n",
       "      <th>93</th>\n",
       "      <td>0</td>\n",
       "      <td>30</td>\n",
       "      <td>1</td>\n",
       "      <td>95</td>\n",
       "      <td>39</td>\n",
       "      <td>122000</td>\n",
       "      <td>95</td>\n",
       "      <td>6.625</td>\n",
       "      <td>360</td>\n",
       "      <td>0</td>\n",
       "      <td>0</td>\n",
       "      <td>46</td>\n",
       "      <td>1</td>\n",
       "      <td>3</td>\n",
       "      <td>1</td>\n",
       "      <td>1</td>\n",
       "    </tr>\n",
       "    <tr>\n",
       "      <th>94</th>\n",
       "      <td>0</td>\n",
       "      <td>0</td>\n",
       "      <td>1</td>\n",
       "      <td>52</td>\n",
       "      <td>15</td>\n",
       "      <td>150000</td>\n",
       "      <td>52</td>\n",
       "      <td>7.000</td>\n",
       "      <td>360</td>\n",
       "      <td>0</td>\n",
       "      <td>0</td>\n",
       "      <td>55</td>\n",
       "      <td>2</td>\n",
       "      <td>3</td>\n",
       "      <td>1</td>\n",
       "      <td>1</td>\n",
       "    </tr>\n",
       "    <tr>\n",
       "      <th>96</th>\n",
       "      <td>0</td>\n",
       "      <td>0</td>\n",
       "      <td>1</td>\n",
       "      <td>78</td>\n",
       "      <td>28</td>\n",
       "      <td>95000</td>\n",
       "      <td>78</td>\n",
       "      <td>6.750</td>\n",
       "      <td>360</td>\n",
       "      <td>0</td>\n",
       "      <td>0</td>\n",
       "      <td>47</td>\n",
       "      <td>1</td>\n",
       "      <td>3</td>\n",
       "      <td>1</td>\n",
       "      <td>1</td>\n",
       "    </tr>\n",
       "    <tr>\n",
       "      <th>97</th>\n",
       "      <td>0</td>\n",
       "      <td>25</td>\n",
       "      <td>1</td>\n",
       "      <td>90</td>\n",
       "      <td>35</td>\n",
       "      <td>149000</td>\n",
       "      <td>90</td>\n",
       "      <td>6.625</td>\n",
       "      <td>360</td>\n",
       "      <td>0</td>\n",
       "      <td>0</td>\n",
       "      <td>55</td>\n",
       "      <td>2</td>\n",
       "      <td>3</td>\n",
       "      <td>1</td>\n",
       "      <td>1</td>\n",
       "    </tr>\n",
       "    <tr>\n",
       "      <th>98</th>\n",
       "      <td>0</td>\n",
       "      <td>0</td>\n",
       "      <td>1</td>\n",
       "      <td>70</td>\n",
       "      <td>28</td>\n",
       "      <td>80000</td>\n",
       "      <td>70</td>\n",
       "      <td>6.500</td>\n",
       "      <td>360</td>\n",
       "      <td>0</td>\n",
       "      <td>0</td>\n",
       "      <td>212</td>\n",
       "      <td>5</td>\n",
       "      <td>3</td>\n",
       "      <td>1</td>\n",
       "      <td>1</td>\n",
       "    </tr>\n",
       "    <tr>\n",
       "      <th>99</th>\n",
       "      <td>0</td>\n",
       "      <td>0</td>\n",
       "      <td>1</td>\n",
       "      <td>54</td>\n",
       "      <td>11</td>\n",
       "      <td>35000</td>\n",
       "      <td>54</td>\n",
       "      <td>6.875</td>\n",
       "      <td>360</td>\n",
       "      <td>0</td>\n",
       "      <td>0</td>\n",
       "      <td>17</td>\n",
       "      <td>1</td>\n",
       "      <td>3</td>\n",
       "      <td>1</td>\n",
       "      <td>1</td>\n",
       "    </tr>\n",
       "    <tr>\n",
       "      <th>100</th>\n",
       "      <td>0</td>\n",
       "      <td>25</td>\n",
       "      <td>1</td>\n",
       "      <td>90</td>\n",
       "      <td>34</td>\n",
       "      <td>162000</td>\n",
       "      <td>90</td>\n",
       "      <td>6.500</td>\n",
       "      <td>360</td>\n",
       "      <td>0</td>\n",
       "      <td>0</td>\n",
       "      <td>75</td>\n",
       "      <td>2</td>\n",
       "      <td>3</td>\n",
       "      <td>1</td>\n",
       "      <td>1</td>\n",
       "    </tr>\n",
       "    <tr>\n",
       "      <th>101</th>\n",
       "      <td>0</td>\n",
       "      <td>30</td>\n",
       "      <td>1</td>\n",
       "      <td>95</td>\n",
       "      <td>29</td>\n",
       "      <td>226000</td>\n",
       "      <td>95</td>\n",
       "      <td>7.000</td>\n",
       "      <td>360</td>\n",
       "      <td>1</td>\n",
       "      <td>1</td>\n",
       "      <td>28</td>\n",
       "      <td>1</td>\n",
       "      <td>3</td>\n",
       "      <td>1</td>\n",
       "      <td>1</td>\n",
       "    </tr>\n",
       "  </tbody>\n",
       "</table>\n",
       "</div>"
      ],
      "text/plain": [
       "     CreditScore  MIP  Units  OCLTV  DTI  OrigUPB  LTV  OrigInterestRate  \\\n",
       "51             0   30      1     95   48   182000   95             6.750   \n",
       "52             0    0      1     76   30    98000   76             6.875   \n",
       "53             0    0      1     80   31    89000   80             6.250   \n",
       "54             0    0      1     80   30   172000   80             6.500   \n",
       "55             0   25      1     90   15    82000   90             7.125   \n",
       "56             0    0      1     62   22   240000   62             6.500   \n",
       "57             0   30      1     95   20   102000   95             7.125   \n",
       "58             0   30      1     95   18   173000   95             6.625   \n",
       "59             0    0      1     44   17   200000   44             6.750   \n",
       "60             0   30      1     95   31    77000   95             6.625   \n",
       "61             0    0      1     32   56    51000   32             7.500   \n",
       "62             0    0      1     64   19   169000   64             7.125   \n",
       "63             0    0      1     78   38   101000   78             7.125   \n",
       "64             0    0      1     80   32   152000   80             6.625   \n",
       "65             0   30      1     91   28    50000   91             7.500   \n",
       "66             0   30      1     95   12   141000   95             6.750   \n",
       "67             0    0      1     73   39    47000   73             6.500   \n",
       "68             0    0      1     53   24    90000   53             6.750   \n",
       "69             0    0      1     70    6   126000   70             8.125   \n",
       "70             0   30      1     95   24   128000   95             7.750   \n",
       "71             0   30      1     95   31   133000   95             7.625   \n",
       "72             0   30      1     95   31   135000   95             6.875   \n",
       "73             0    0      1     69   37   111000   69             7.150   \n",
       "74             0    0      1     75   14   115000   75             6.875   \n",
       "75             0   25      1     90   36   115000   90             6.750   \n",
       "76             0   25      1     90   43    56000   90             7.250   \n",
       "77             0   25      1     90   22   144000   90             6.875   \n",
       "78             0    0      1     80   31   146000   80             7.375   \n",
       "79             0   25      1     90   42   212000   90             7.250   \n",
       "80             0    0      1     72   34   176000   72             6.875   \n",
       "81             0    0      1     76   31   200000   76             6.750   \n",
       "82             0    0      1     79   31   214000   79             6.875   \n",
       "83             0    0      1     80   33   190000   80             6.500   \n",
       "84             0    0      1     60   35   111000   60             6.250   \n",
       "85             0   25      2     90   38   212000   90             6.750   \n",
       "86             0    0      1     70   39   227000   70             6.375   \n",
       "87             0    0      1     32   21    99000   32             7.250   \n",
       "88             0    0      1     75   11    83000   75             7.750   \n",
       "89             0   30      1     95   34    49000   95             6.750   \n",
       "90             0    0      1     54   19    29000   54             7.250   \n",
       "91             0    0      1     74   25   124000   74             6.750   \n",
       "92             0   30      1     95   27   132000   95             6.625   \n",
       "93             0   30      1     95   39   122000   95             6.625   \n",
       "94             0    0      1     52   15   150000   52             7.000   \n",
       "96             0    0      1     78   28    95000   78             6.750   \n",
       "97             0   25      1     90   35   149000   90             6.625   \n",
       "98             0    0      1     70   28    80000   70             6.500   \n",
       "99             0    0      1     54   11    35000   54             6.875   \n",
       "100            0   25      1     90   34   162000   90             6.500   \n",
       "101            0   30      1     95   29   226000   95             7.000   \n",
       "\n",
       "     OrigLoanTerm  EverDelinquent  MonthsDelinquent  MonthsInRepayment  \\\n",
       "51            360               0                 0                 41   \n",
       "52            360               0                 0                211   \n",
       "53            360               0                 0                 76   \n",
       "54            360               0                 0                 54   \n",
       "55            360               0                 0                 49   \n",
       "56            360               0                 0                 47   \n",
       "57            360               0                 0                 44   \n",
       "58            360               0                 0                 18   \n",
       "59            360               0                 0                 66   \n",
       "60            360               1                 2                212   \n",
       "61            360               0                 0                 19   \n",
       "62            360               0                 0                 44   \n",
       "63            360               1                23                 43   \n",
       "64            360               1                 1                211   \n",
       "65            360               1                20                 60   \n",
       "66            360               0                 0                 54   \n",
       "67            360               0                 0                 83   \n",
       "68            360               1                10                 95   \n",
       "69            360               0                 0                 29   \n",
       "70            360               1                 3                 45   \n",
       "71            360               1                10                 13   \n",
       "72            360               1                 3                 29   \n",
       "73            360               0                 0                 44   \n",
       "74            360               0                 0                  6   \n",
       "75            360               0                 0                 48   \n",
       "76            360               0                 0                 50   \n",
       "77            360               0                 0                 62   \n",
       "78            360               0                 0                 48   \n",
       "79            360               1                34                 60   \n",
       "80            360               0                 0                 14   \n",
       "81            360               0                 0                 44   \n",
       "82            360               0                 0                 14   \n",
       "83            360               1                 2                 54   \n",
       "84            360               1                 5                 67   \n",
       "85            360               1                35                 37   \n",
       "86            360               0                 0                 52   \n",
       "87            360               0                 0                 15   \n",
       "88            360               0                 0                 53   \n",
       "89            360               0                 0                211   \n",
       "90            360               0                 0                111   \n",
       "91            360               0                 0                 52   \n",
       "92            360               1                 2                 51   \n",
       "93            360               0                 0                 46   \n",
       "94            360               0                 0                 55   \n",
       "96            360               0                 0                 47   \n",
       "97            360               0                 0                 55   \n",
       "98            360               0                 0                212   \n",
       "99            360               0                 0                 17   \n",
       "100           360               0                 0                 75   \n",
       "101           360               1                 1                 28   \n",
       "\n",
       "     RepayRange  ltvRange  creditRange  MonthsDelinquentRange  \n",
       "51            1         3            1                      1  \n",
       "52            5         3            1                      1  \n",
       "53            2         3            1                      1  \n",
       "54            2         3            1                      1  \n",
       "55            2         3            1                      1  \n",
       "56            1         3            1                      1  \n",
       "57            1         3            1                      1  \n",
       "58            1         3            1                      1  \n",
       "59            2         2            1                      1  \n",
       "60            5         3            1                      1  \n",
       "61            1         2            1                      1  \n",
       "62            1         3            1                      1  \n",
       "63            1         3            1                      1  \n",
       "64            5         3            1                      1  \n",
       "65            2         3            1                      1  \n",
       "66            2         3            1                      1  \n",
       "67            2         3            1                      1  \n",
       "68            2         3            1                      1  \n",
       "69            1         3            1                      1  \n",
       "70            1         3            1                      1  \n",
       "71            1         3            1                      1  \n",
       "72            1         3            1                      1  \n",
       "73            1         3            1                      1  \n",
       "74            1         3            1                      1  \n",
       "75            1         3            1                      1  \n",
       "76            2         3            1                      1  \n",
       "77            2         3            1                      1  \n",
       "78            1         3            1                      1  \n",
       "79            2         3            1                      1  \n",
       "80            1         3            1                      1  \n",
       "81            1         3            1                      1  \n",
       "82            1         3            1                      1  \n",
       "83            2         3            1                      1  \n",
       "84            2         3            1                      1  \n",
       "85            1         3            1                      1  \n",
       "86            2         3            1                      1  \n",
       "87            1         2            1                      1  \n",
       "88            2         3            1                      1  \n",
       "89            5         3            1                      1  \n",
       "90            3         3            1                      1  \n",
       "91            2         3            1                      1  \n",
       "92            2         3            1                      1  \n",
       "93            1         3            1                      1  \n",
       "94            2         3            1                      1  \n",
       "96            1         3            1                      1  \n",
       "97            2         3            1                      1  \n",
       "98            5         3            1                      1  \n",
       "99            1         3            1                      1  \n",
       "100           2         3            1                      1  \n",
       "101           1         3            1                      1  "
      ]
     },
     "execution_count": 69,
     "metadata": {},
     "output_type": "execute_result"
    }
   ],
   "source": [
    "df[50:100]"
   ]
  },
  {
   "cell_type": "markdown",
   "id": "349ca173",
   "metadata": {},
   "source": [
    "## We see that the people that was delinquent ocurre on the first range and give them more time to pay"
   ]
  },
  {
   "cell_type": "code",
   "execution_count": null,
   "id": "9cff1429",
   "metadata": {},
   "outputs": [],
   "source": []
  }
 ],
 "metadata": {
  "kernelspec": {
   "display_name": "Python 3",
   "language": "python",
   "name": "python3"
  },
  "language_info": {
   "codemirror_mode": {
    "name": "ipython",
    "version": 3
   },
   "file_extension": ".py",
   "mimetype": "text/x-python",
   "name": "python",
   "nbconvert_exporter": "python",
   "pygments_lexer": "ipython3",
   "version": "3.8.12"
  }
 },
 "nbformat": 4,
 "nbformat_minor": 5
}
